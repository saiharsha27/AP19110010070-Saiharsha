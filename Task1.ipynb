{
 "cells": [
  {
   "cell_type": "markdown",
   "metadata": {},
   "source": [
    "\n",
    "## Task:\n",
    "- Write a program to check wheather the user eligible for vote or not\n",
    "- Check the given number is positive or negative\n",
    "- Check the given number is even or odd if it's even check which is divisible by 4 or not\n",
    "- Write a program to print student grade based on percentage like Distinction,pass or fail\n",
    "- Check the given year is Leap or not"
   ]
  },
  {
   "cell_type": "markdown",
   "metadata": {},
   "source": [
    "#### Write a program to check wheather the user eligible for vote or not"
   ]
  },
  {
   "cell_type": "code",
   "execution_count": 16,
   "metadata": {},
   "outputs": [
    {
     "name": "stdout",
     "output_type": "stream",
     "text": [
      "Enter your age 21\n",
      "You're eligible to vote!\n"
     ]
    }
   ],
   "source": [
    "age = int(input(\"Enter your age \"))\n",
    "if age>18:\n",
    "    print(\"You're eligible to vote!\")\n",
    "else:\n",
    "    print(\"You're not eligible to vote!\")"
   ]
  },
  {
   "cell_type": "markdown",
   "metadata": {},
   "source": [
    "#### Check the given number is positive or negative"
   ]
  },
  {
   "cell_type": "code",
   "execution_count": 15,
   "metadata": {},
   "outputs": [
    {
     "name": "stdout",
     "output_type": "stream",
     "text": [
      "Enter the number -1\n",
      "The number is negative!\n"
     ]
    }
   ],
   "source": [
    "num = int(input(\"Enter the number \"))\n",
    "if num<0:\n",
    "    print(\"The number is negative!\")\n",
    "else:\n",
    "    print(\"The number is positive!\")"
   ]
  },
  {
   "cell_type": "markdown",
   "metadata": {},
   "source": [
    "#### Check the given number is even or odd if it's even check which is divisible by 4 or not"
   ]
  },
  {
   "cell_type": "code",
   "execution_count": 20,
   "metadata": {},
   "outputs": [
    {
     "name": "stdout",
     "output_type": "stream",
     "text": [
      "Enter the number 16\n",
      "The number is even and divisible by 4\n"
     ]
    }
   ],
   "source": [
    "num1 = int(input(\"Enter the number \"))\n",
    "if num1 ==0:\n",
    "    print(\"The number is even\")\n",
    "elif num1%2==0:\n",
    "    if num1%4==0:\n",
    "        print(\"The number is even and divisible by 4\")\n",
    "    else:\n",
    "        print(\"The number is even and not divisible by 4\")\n",
    "else:\n",
    "    print(\"The number is odd\")\n",
    "    "
   ]
  },
  {
   "cell_type": "markdown",
   "metadata": {},
   "source": [
    "#### Write a program to print student grade based on percentage like Distinction,pass or fail"
   ]
  },
  {
   "cell_type": "code",
   "execution_count": 21,
   "metadata": {},
   "outputs": [
    {
     "name": "stdout",
     "output_type": "stream",
     "text": [
      "Enter your percentage(%) 92\n",
      "Distinction\n"
     ]
    }
   ],
   "source": [
    "student_percentage = int(input(\"Enter your percentage(%) \"))\n",
    "if student_percentage >= 90 and student_percentage < 100:\n",
    "    print(\"Distinction\")\n",
    "elif student_percentage >= 50 and student_percentage < 90:\n",
    "    print(\"Pass\")\n",
    "elif student_percentage < 50 and student_percentage > 0:\n",
    "    print(\"Fail\")\n",
    "else:\n",
    "    print(\"Enter a valid percentage\")\n"
   ]
  },
  {
   "cell_type": "markdown",
   "metadata": {},
   "source": [
    "#### Check the given year is Leap or not"
   ]
  },
  {
   "cell_type": "code",
   "execution_count": 22,
   "metadata": {},
   "outputs": [
    {
     "name": "stdout",
     "output_type": "stream",
     "text": [
      "Enter the year 2020\n",
      "The year is leap year!\n"
     ]
    }
   ],
   "source": [
    "year = int(input(\"Enter the year \"))\n",
    "if year%4 == 0 and year%100 != 0 or year%400 == 0:\n",
    "    print(\"The year is leap year!\")\n",
    "else:\n",
    "    print(\"The year isn't a leap year\")"
   ]
  },
  {
   "cell_type": "code",
   "execution_count": null,
   "metadata": {},
   "outputs": [],
   "source": []
  }
 ],
 "metadata": {
  "kernelspec": {
   "display_name": "Python 3",
   "language": "python",
   "name": "python3"
  },
  "language_info": {
   "codemirror_mode": {
    "name": "ipython",
    "version": 3
   },
   "file_extension": ".py",
   "mimetype": "text/x-python",
   "name": "python",
   "nbconvert_exporter": "python",
   "pygments_lexer": "ipython3",
   "version": "3.8.5"
  }
 },
 "nbformat": 4,
 "nbformat_minor": 4
}
