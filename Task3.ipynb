{
 "cells": [
  {
   "cell_type": "markdown",
   "metadata": {},
   "source": [
    "### Task\n",
    "- Take input from the user\n",
    "- Check the length of the string even or odd\n",
    "- If the string length is odd access one middle character\n",
    "- If the string length is even access two middle characters"
   ]
  },
  {
   "cell_type": "markdown",
   "metadata": {},
   "source": [
    "#### Odd length of string"
   ]
  },
  {
   "cell_type": "code",
   "execution_count": 6,
   "metadata": {},
   "outputs": [
    {
     "name": "stdout",
     "output_type": "stream",
     "text": [
      "Enter the string: Hello\n",
      "l\n"
     ]
    }
   ],
   "source": [
    "string = input(\"Enter the string: \")\n",
    "middle = len(string)//2\n",
    "if len(string)%2==0:\n",
    "    print(string[middle:middle+2])\n",
    "else:\n",
    "    print(string[middle])"
   ]
  },
  {
   "cell_type": "markdown",
   "metadata": {},
   "source": [
    "#### Even length of string"
   ]
  },
  {
   "cell_type": "code",
   "execution_count": 7,
   "metadata": {},
   "outputs": [
    {
     "name": "stdout",
     "output_type": "stream",
     "text": [
      "Enter the string: Harsha\n",
      "sh\n"
     ]
    }
   ],
   "source": [
    "string = input(\"Enter the string: \")\n",
    "middle = len(string)//2\n",
    "if len(string)%2==0:\n",
    "    print(string[middle:middle+2])\n",
    "else:\n",
    "    print(string[middle])"
   ]
  },
  {
   "cell_type": "code",
   "execution_count": null,
   "metadata": {},
   "outputs": [],
   "source": []
  }
 ],
 "metadata": {
  "kernelspec": {
   "display_name": "Python 3",
   "language": "python",
   "name": "python3"
  },
  "language_info": {
   "codemirror_mode": {
    "name": "ipython",
    "version": 3
   },
   "file_extension": ".py",
   "mimetype": "text/x-python",
   "name": "python",
   "nbconvert_exporter": "python",
   "pygments_lexer": "ipython3",
   "version": "3.8.5"
  }
 },
 "nbformat": 4,
 "nbformat_minor": 4
}