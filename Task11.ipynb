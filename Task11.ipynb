{
 "metadata": {
  "language_info": {
   "codemirror_mode": {
    "name": "ipython",
    "version": 3
   },
   "file_extension": ".py",
   "mimetype": "text/x-python",
   "name": "python",
   "nbconvert_exporter": "python",
   "pygments_lexer": "ipython3",
   "version": "3.8.5"
  },
  "orig_nbformat": 4,
  "kernelspec": {
   "name": "python3",
   "display_name": "Python 3.8.5 64-bit ('base': conda)"
  },
  "interpreter": {
   "hash": "8d8e941dd9e9252dac184cf5490b23fd17a43efd88a760f18b4762e38cf72dd3"
  }
 },
 "nbformat": 4,
 "nbformat_minor": 2,
 "cells": [
  {
   "source": [
    "## Task 11"
   ],
   "cell_type": "markdown",
   "metadata": {}
  },
  {
   "source": [
    "- Take a list of years between 1800 to 2300, display all the leap years which is divisible by 5.\n"
   ],
   "cell_type": "markdown",
   "metadata": {}
  },
  {
   "cell_type": "code",
   "execution_count": 12,
   "metadata": {},
   "outputs": [
    {
     "output_type": "stream",
     "name": "stdout",
     "text": [
      "Leap years which are divisible by 5 and between 1800 to 2300 are:\n[1820, 1840, 1860, 1880, 1920, 1940, 1960, 1980, 2000, 2020]\n"
     ]
    }
   ],
   "source": [
    "year_start = 1800\n",
    "year_end = 2030\n",
    "print(\"Leap years which are divisible by 5 and between 1800 to 2300 are:\")\n",
    "print([i for i in range(year_start, year_end + 1) if (i%4 == 0 and i%100 != 0 and i%5==0) or (i%400 == 0)])"
   ]
  }
 ]
}