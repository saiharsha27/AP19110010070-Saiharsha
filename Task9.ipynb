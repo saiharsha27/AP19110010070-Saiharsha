{
 "metadata": {
  "language_info": {
   "codemirror_mode": {
    "name": "ipython",
    "version": 3
   },
   "file_extension": ".py",
   "mimetype": "text/x-python",
   "name": "python",
   "nbconvert_exporter": "python",
   "pygments_lexer": "ipython3",
   "version": "3.8.5"
  },
  "orig_nbformat": 4,
  "kernelspec": {
   "name": "python3",
   "display_name": "Python 3.8.5 64-bit ('base': conda)"
  },
  "interpreter": {
   "hash": "8d8e941dd9e9252dac184cf5490b23fd17a43efd88a760f18b4762e38cf72dd3"
  }
 },
 "nbformat": 4,
 "nbformat_minor": 2,
 "cells": [
  {
   "source": [
    "## Task 9\n",
    "- Generate 3-Digit OTP from two different classes(Mail Class & Phone Class)\n",
    "- Return 6-digit OTP from Base classes(super classes)"
   ],
   "cell_type": "markdown",
   "metadata": {}
  },
  {
   "cell_type": "code",
   "execution_count": 27,
   "metadata": {},
   "outputs": [],
   "source": [
    "import random\n",
    "class Mail():\n",
    "    def __init__(self):\n",
    "        self.otp1 = random.randint(000,999)\n",
    "        print(\"3-digit OTP:\",self.otp1)\n",
    "class Phone():\n",
    "    def __init__(self):\n",
    "        self.otp2 = random.randint(000,999)\n",
    "        print(\"3-digit OTP:\", self.otp2)\n",
    "class BaseClass():\n",
    "    def __init__(self):\n",
    "        Mail.__init__(self)\n",
    "        Phone.__init__(self)\n",
    "        print(\"6-digit OTP:\",(str(self.otp1)+str(self.otp2)))\n",
    "        "
   ]
  },
  {
   "cell_type": "code",
   "execution_count": 32,
   "metadata": {},
   "outputs": [
    {
     "output_type": "stream",
     "name": "stdout",
     "text": [
      "3-digit OTP: 186\n3-digit OTP: 838\n6-digit OTP: 186838\n"
     ]
    }
   ],
   "source": [
    "obj = BaseClass()"
   ]
  }
 ]
}