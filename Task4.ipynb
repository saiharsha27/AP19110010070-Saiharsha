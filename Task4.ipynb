{
 "metadata": {
  "language_info": {
   "codemirror_mode": {
    "name": "ipython",
    "version": 3
   },
   "file_extension": ".py",
   "mimetype": "text/x-python",
   "name": "python",
   "nbconvert_exporter": "python",
   "pygments_lexer": "ipython3",
   "version": "3.8.5"
  },
  "orig_nbformat": 4,
  "kernelspec": {
   "name": "python3",
   "display_name": "Python 3.8.5 64-bit ('base': conda)"
  },
  "interpreter": {
   "hash": "8d8e941dd9e9252dac184cf5490b23fd17a43efd88a760f18b4762e38cf72dd3"
  }
 },
 "nbformat": 4,
 "nbformat_minor": 2,
 "cells": [
  {
   "source": [
    "## Task\n",
    "- Write a Python program that takes two lists and returns True if they have at least one common member.\n"
   ],
   "cell_type": "markdown",
   "metadata": {}
  },
  {
   "cell_type": "code",
   "execution_count": 1,
   "metadata": {},
   "outputs": [
    {
     "output_type": "execute_result",
     "data": {
      "text/plain": [
       "{5, 6, 7}"
      ]
     },
     "metadata": {},
     "execution_count": 1
    }
   ],
   "source": [
    "total_l1 = int(input(\"Enter the number of elements in list1 \"))\n",
    "l1 = []\n",
    "for i in range(total_l1):\n",
    "    num1 = int(input(\"Enter the numbers \"))\n",
    "    l1.append(num1)\n",
    "l2 = []\n",
    "total_l2 = int(input(\"Enter the number of elements in list2 \"))\n",
    "for j in range(total_l2):\n",
    "    num2 = int(input(\"Enter the numbers\"))\n",
    "    l2.append(num2)\n",
    "set(l1) and set(l2)\n",
    "\n",
    "\n",
    "\n",
    "\n"
   ]
  },
  {
   "source": [
    "#### Visual Studio Code Python 3.8.5 64-bit"
   ],
   "cell_type": "markdown",
   "metadata": {}
  }
 ]
}