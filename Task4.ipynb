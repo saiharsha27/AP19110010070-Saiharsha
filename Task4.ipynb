{
 "cells": [
  {
   "cell_type": "markdown",
   "metadata": {},
   "source": [
    "## Task 4\n",
    "- Write a Python program that takes two lists and returns True if they have at least one common member.\n"
   ]
  },
  {
   "cell_type": "code",
   "execution_count": 10,
   "metadata": {},
   "outputs": [
    {
     "name": "stdout",
     "output_type": "stream",
     "text": [
      "Enter the number of elements in list1 5\n",
      "Enter the numbers 8\n",
      "Enter the numbers 9\n",
      "Enter the numbers 12\n",
      "Enter the numbers 14\n",
      "Enter the numbers 7\n",
      "\n",
      "Enter the number of elements in list2 5\n",
      "Enter the numbers 6\n",
      "Enter the numbers 10\n",
      "Enter the numbers 8\n",
      "Enter the numbers 14\n",
      "Enter the numbers 18\n",
      "\n",
      "The two lists have atleast one common member\n"
     ]
    }
   ],
   "source": [
    "total_l1 = int(input(\"Enter the number of elements in list1 \"))\n",
    "l1 = []\n",
    "for i in range(total_l1):\n",
    "    num1 = int(input(\"Enter the numbers \"))\n",
    "    l1.append(num1)\n",
    "l2 = []\n",
    "total_l2 = int(input(\"\\nEnter the number of elements in list2 \"))\n",
    "for j in range(total_l2):\n",
    "    num2 = int(input(\"Enter the numbers \"))\n",
    "    l2.append(num2)\n",
    "common_member = False\n",
    "for num1 in l1:\n",
    "    for num2 in l2:\n",
    "        if num1 == num2:\n",
    "            common_member = True\n",
    "if common_member == True:\n",
    "    print(\"\\nThe two lists have atleast one common member\")\n",
    "else:\n",
    "    print(\"\\nThe two list does not have any common member\")"
   ]
  },
  {
   "cell_type": "code",
   "execution_count": null,
   "metadata": {},
   "outputs": [],
   "source": []
  }
 ],
 "metadata": {
  "interpreter": {
   "hash": "8d8e941dd9e9252dac184cf5490b23fd17a43efd88a760f18b4762e38cf72dd3"
  },
  "kernelspec": {
   "display_name": "Python 3",
   "language": "python",
   "name": "python3"
  },
  "language_info": {
   "codemirror_mode": {
    "name": "ipython",
    "version": 3
   },
   "file_extension": ".py",
   "mimetype": "text/x-python",
   "name": "python",
   "nbconvert_exporter": "python",
   "pygments_lexer": "ipython3",
   "version": "3.8.5"
  }
 },
 "nbformat": 4,
 "nbformat_minor": 2
}
