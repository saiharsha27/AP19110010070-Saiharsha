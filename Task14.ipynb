{
 "metadata": {
  "language_info": {
   "codemirror_mode": {
    "name": "ipython",
    "version": 3
   },
   "file_extension": ".py",
   "mimetype": "text/x-python",
   "name": "python",
   "nbconvert_exporter": "python",
   "pygments_lexer": "ipython3",
   "version": "3.8.5"
  },
  "orig_nbformat": 4,
  "kernelspec": {
   "name": "python3",
   "display_name": "Python 3.8.5 64-bit ('base': conda)"
  },
  "interpreter": {
   "hash": "8d8e941dd9e9252dac184cf5490b23fd17a43efd88a760f18b4762e38cf72dd3"
  }
 },
 "nbformat": 4,
 "nbformat_minor": 2,
 "cells": [
  {
   "source": [
    "## Task 14"
   ],
   "cell_type": "markdown",
   "metadata": {}
  },
  {
   "cell_type": "code",
   "execution_count": 1,
   "metadata": {},
   "outputs": [
    {
     "output_type": "execute_result",
     "data": {
      "text/plain": [
       "   PassengerId  Survived  Pclass  \\\n",
       "0            1         0       3   \n",
       "1            2         1       1   \n",
       "2            3         1       3   \n",
       "3            4         1       1   \n",
       "4            5         0       3   \n",
       "\n",
       "                                                Name     Sex   Age  SibSp  \\\n",
       "0                            Braund, Mr. Owen Harris    male  22.0      1   \n",
       "1  Cumings, Mrs. John Bradley (Florence Briggs Th...  female  38.0      1   \n",
       "2                             Heikkinen, Miss. Laina  female  26.0      0   \n",
       "3       Futrelle, Mrs. Jacques Heath (Lily May Peel)  female  35.0      1   \n",
       "4                           Allen, Mr. William Henry    male  35.0      0   \n",
       "\n",
       "   Parch            Ticket     Fare Cabin Embarked  \n",
       "0      0         A/5 21171   7.2500   NaN        S  \n",
       "1      0          PC 17599  71.2833   C85        C  \n",
       "2      0  STON/O2. 3101282   7.9250   NaN        S  \n",
       "3      0            113803  53.1000  C123        S  \n",
       "4      0            373450   8.0500   NaN        S  "
      ],
      "text/html": "<div>\n<style scoped>\n    .dataframe tbody tr th:only-of-type {\n        vertical-align: middle;\n    }\n\n    .dataframe tbody tr th {\n        vertical-align: top;\n    }\n\n    .dataframe thead th {\n        text-align: right;\n    }\n</style>\n<table border=\"1\" class=\"dataframe\">\n  <thead>\n    <tr style=\"text-align: right;\">\n      <th></th>\n      <th>PassengerId</th>\n      <th>Survived</th>\n      <th>Pclass</th>\n      <th>Name</th>\n      <th>Sex</th>\n      <th>Age</th>\n      <th>SibSp</th>\n      <th>Parch</th>\n      <th>Ticket</th>\n      <th>Fare</th>\n      <th>Cabin</th>\n      <th>Embarked</th>\n    </tr>\n  </thead>\n  <tbody>\n    <tr>\n      <th>0</th>\n      <td>1</td>\n      <td>0</td>\n      <td>3</td>\n      <td>Braund, Mr. Owen Harris</td>\n      <td>male</td>\n      <td>22.0</td>\n      <td>1</td>\n      <td>0</td>\n      <td>A/5 21171</td>\n      <td>7.2500</td>\n      <td>NaN</td>\n      <td>S</td>\n    </tr>\n    <tr>\n      <th>1</th>\n      <td>2</td>\n      <td>1</td>\n      <td>1</td>\n      <td>Cumings, Mrs. John Bradley (Florence Briggs Th...</td>\n      <td>female</td>\n      <td>38.0</td>\n      <td>1</td>\n      <td>0</td>\n      <td>PC 17599</td>\n      <td>71.2833</td>\n      <td>C85</td>\n      <td>C</td>\n    </tr>\n    <tr>\n      <th>2</th>\n      <td>3</td>\n      <td>1</td>\n      <td>3</td>\n      <td>Heikkinen, Miss. Laina</td>\n      <td>female</td>\n      <td>26.0</td>\n      <td>0</td>\n      <td>0</td>\n      <td>STON/O2. 3101282</td>\n      <td>7.9250</td>\n      <td>NaN</td>\n      <td>S</td>\n    </tr>\n    <tr>\n      <th>3</th>\n      <td>4</td>\n      <td>1</td>\n      <td>1</td>\n      <td>Futrelle, Mrs. Jacques Heath (Lily May Peel)</td>\n      <td>female</td>\n      <td>35.0</td>\n      <td>1</td>\n      <td>0</td>\n      <td>113803</td>\n      <td>53.1000</td>\n      <td>C123</td>\n      <td>S</td>\n    </tr>\n    <tr>\n      <th>4</th>\n      <td>5</td>\n      <td>0</td>\n      <td>3</td>\n      <td>Allen, Mr. William Henry</td>\n      <td>male</td>\n      <td>35.0</td>\n      <td>0</td>\n      <td>0</td>\n      <td>373450</td>\n      <td>8.0500</td>\n      <td>NaN</td>\n      <td>S</td>\n    </tr>\n  </tbody>\n</table>\n</div>"
     },
     "metadata": {},
     "execution_count": 1
    }
   ],
   "source": [
    "import pandas as pd\n",
    "df = pd.read_csv(\"https://raw.githubusercontent.com/nagamounika5/Datasets/master/titanic.csv\")\n",
    "df.head()"
   ]
  },
  {
   "cell_type": "code",
   "execution_count": 2,
   "metadata": {},
   "outputs": [],
   "source": [
    "df.to_csv(\"titanic.csv\", index= False)"
   ]
  },
  {
   "source": [
    "- Replace null values 'Age' column with ffill()"
   ],
   "cell_type": "markdown",
   "metadata": {}
  },
  {
   "cell_type": "code",
   "execution_count": 3,
   "metadata": {},
   "outputs": [
    {
     "output_type": "execute_result",
     "data": {
      "text/plain": [
       "   PassengerId  Survived  Pclass  \\\n",
       "0            1         0       3   \n",
       "1            2         1       1   \n",
       "2            3         1       3   \n",
       "3            4         1       1   \n",
       "4            5         0       3   \n",
       "5            6         0       3   \n",
       "6            7         0       1   \n",
       "7            8         0       3   \n",
       "8            9         1       3   \n",
       "9           10         1       2   \n",
       "\n",
       "                                                Name     Sex   Age  SibSp  \\\n",
       "0                            Braund, Mr. Owen Harris    male  22.0      1   \n",
       "1  Cumings, Mrs. John Bradley (Florence Briggs Th...  female  38.0      1   \n",
       "2                             Heikkinen, Miss. Laina  female  26.0      0   \n",
       "3       Futrelle, Mrs. Jacques Heath (Lily May Peel)  female  35.0      1   \n",
       "4                           Allen, Mr. William Henry    male  35.0      0   \n",
       "5                                   Moran, Mr. James    male   NaN      0   \n",
       "6                            McCarthy, Mr. Timothy J    male  54.0      0   \n",
       "7                     Palsson, Master. Gosta Leonard    male   2.0      3   \n",
       "8  Johnson, Mrs. Oscar W (Elisabeth Vilhelmina Berg)  female  27.0      0   \n",
       "9                Nasser, Mrs. Nicholas (Adele Achem)  female  14.0      1   \n",
       "\n",
       "   Parch            Ticket     Fare Cabin Embarked  \n",
       "0      0         A/5 21171   7.2500   NaN        S  \n",
       "1      0          PC 17599  71.2833   C85        C  \n",
       "2      0  STON/O2. 3101282   7.9250   NaN        S  \n",
       "3      0            113803  53.1000  C123        S  \n",
       "4      0            373450   8.0500   NaN        S  \n",
       "5      0            330877   8.4583   NaN        Q  \n",
       "6      0             17463  51.8625   E46        S  \n",
       "7      1            349909  21.0750   NaN        S  \n",
       "8      2            347742  11.1333   NaN        S  \n",
       "9      0            237736  30.0708   NaN        C  "
      ],
      "text/html": "<div>\n<style scoped>\n    .dataframe tbody tr th:only-of-type {\n        vertical-align: middle;\n    }\n\n    .dataframe tbody tr th {\n        vertical-align: top;\n    }\n\n    .dataframe thead th {\n        text-align: right;\n    }\n</style>\n<table border=\"1\" class=\"dataframe\">\n  <thead>\n    <tr style=\"text-align: right;\">\n      <th></th>\n      <th>PassengerId</th>\n      <th>Survived</th>\n      <th>Pclass</th>\n      <th>Name</th>\n      <th>Sex</th>\n      <th>Age</th>\n      <th>SibSp</th>\n      <th>Parch</th>\n      <th>Ticket</th>\n      <th>Fare</th>\n      <th>Cabin</th>\n      <th>Embarked</th>\n    </tr>\n  </thead>\n  <tbody>\n    <tr>\n      <th>0</th>\n      <td>1</td>\n      <td>0</td>\n      <td>3</td>\n      <td>Braund, Mr. Owen Harris</td>\n      <td>male</td>\n      <td>22.0</td>\n      <td>1</td>\n      <td>0</td>\n      <td>A/5 21171</td>\n      <td>7.2500</td>\n      <td>NaN</td>\n      <td>S</td>\n    </tr>\n    <tr>\n      <th>1</th>\n      <td>2</td>\n      <td>1</td>\n      <td>1</td>\n      <td>Cumings, Mrs. John Bradley (Florence Briggs Th...</td>\n      <td>female</td>\n      <td>38.0</td>\n      <td>1</td>\n      <td>0</td>\n      <td>PC 17599</td>\n      <td>71.2833</td>\n      <td>C85</td>\n      <td>C</td>\n    </tr>\n    <tr>\n      <th>2</th>\n      <td>3</td>\n      <td>1</td>\n      <td>3</td>\n      <td>Heikkinen, Miss. Laina</td>\n      <td>female</td>\n      <td>26.0</td>\n      <td>0</td>\n      <td>0</td>\n      <td>STON/O2. 3101282</td>\n      <td>7.9250</td>\n      <td>NaN</td>\n      <td>S</td>\n    </tr>\n    <tr>\n      <th>3</th>\n      <td>4</td>\n      <td>1</td>\n      <td>1</td>\n      <td>Futrelle, Mrs. Jacques Heath (Lily May Peel)</td>\n      <td>female</td>\n      <td>35.0</td>\n      <td>1</td>\n      <td>0</td>\n      <td>113803</td>\n      <td>53.1000</td>\n      <td>C123</td>\n      <td>S</td>\n    </tr>\n    <tr>\n      <th>4</th>\n      <td>5</td>\n      <td>0</td>\n      <td>3</td>\n      <td>Allen, Mr. William Henry</td>\n      <td>male</td>\n      <td>35.0</td>\n      <td>0</td>\n      <td>0</td>\n      <td>373450</td>\n      <td>8.0500</td>\n      <td>NaN</td>\n      <td>S</td>\n    </tr>\n    <tr>\n      <th>5</th>\n      <td>6</td>\n      <td>0</td>\n      <td>3</td>\n      <td>Moran, Mr. James</td>\n      <td>male</td>\n      <td>NaN</td>\n      <td>0</td>\n      <td>0</td>\n      <td>330877</td>\n      <td>8.4583</td>\n      <td>NaN</td>\n      <td>Q</td>\n    </tr>\n    <tr>\n      <th>6</th>\n      <td>7</td>\n      <td>0</td>\n      <td>1</td>\n      <td>McCarthy, Mr. Timothy J</td>\n      <td>male</td>\n      <td>54.0</td>\n      <td>0</td>\n      <td>0</td>\n      <td>17463</td>\n      <td>51.8625</td>\n      <td>E46</td>\n      <td>S</td>\n    </tr>\n    <tr>\n      <th>7</th>\n      <td>8</td>\n      <td>0</td>\n      <td>3</td>\n      <td>Palsson, Master. Gosta Leonard</td>\n      <td>male</td>\n      <td>2.0</td>\n      <td>3</td>\n      <td>1</td>\n      <td>349909</td>\n      <td>21.0750</td>\n      <td>NaN</td>\n      <td>S</td>\n    </tr>\n    <tr>\n      <th>8</th>\n      <td>9</td>\n      <td>1</td>\n      <td>3</td>\n      <td>Johnson, Mrs. Oscar W (Elisabeth Vilhelmina Berg)</td>\n      <td>female</td>\n      <td>27.0</td>\n      <td>0</td>\n      <td>2</td>\n      <td>347742</td>\n      <td>11.1333</td>\n      <td>NaN</td>\n      <td>S</td>\n    </tr>\n    <tr>\n      <th>9</th>\n      <td>10</td>\n      <td>1</td>\n      <td>2</td>\n      <td>Nasser, Mrs. Nicholas (Adele Achem)</td>\n      <td>female</td>\n      <td>14.0</td>\n      <td>1</td>\n      <td>0</td>\n      <td>237736</td>\n      <td>30.0708</td>\n      <td>NaN</td>\n      <td>C</td>\n    </tr>\n  </tbody>\n</table>\n</div>"
     },
     "metadata": {},
     "execution_count": 3
    }
   ],
   "source": [
    "import pandas as pd\n",
    "titanic = pd.read_csv(\"titanic.csv\")\n",
    "titanic.head(10)"
   ]
  },
  {
   "source": [
    "titanic['Age'].isnull().sum()"
   ],
   "cell_type": "code",
   "metadata": {},
   "execution_count": 4,
   "outputs": [
    {
     "output_type": "execute_result",
     "data": {
      "text/plain": [
       "177"
      ]
     },
     "metadata": {},
     "execution_count": 4
    }
   ]
  },
  {
   "cell_type": "code",
   "execution_count": 5,
   "metadata": {},
   "outputs": [],
   "source": [
    "titanic['Age'].fillna(method= 'ffill', inplace= True)"
   ]
  },
  {
   "cell_type": "code",
   "execution_count": 6,
   "metadata": {},
   "outputs": [
    {
     "output_type": "execute_result",
     "data": {
      "text/plain": [
       "   PassengerId  Survived  Pclass  \\\n",
       "0            1         0       3   \n",
       "1            2         1       1   \n",
       "2            3         1       3   \n",
       "3            4         1       1   \n",
       "4            5         0       3   \n",
       "5            6         0       3   \n",
       "6            7         0       1   \n",
       "7            8         0       3   \n",
       "8            9         1       3   \n",
       "9           10         1       2   \n",
       "\n",
       "                                                Name     Sex   Age  SibSp  \\\n",
       "0                            Braund, Mr. Owen Harris    male  22.0      1   \n",
       "1  Cumings, Mrs. John Bradley (Florence Briggs Th...  female  38.0      1   \n",
       "2                             Heikkinen, Miss. Laina  female  26.0      0   \n",
       "3       Futrelle, Mrs. Jacques Heath (Lily May Peel)  female  35.0      1   \n",
       "4                           Allen, Mr. William Henry    male  35.0      0   \n",
       "5                                   Moran, Mr. James    male  35.0      0   \n",
       "6                            McCarthy, Mr. Timothy J    male  54.0      0   \n",
       "7                     Palsson, Master. Gosta Leonard    male   2.0      3   \n",
       "8  Johnson, Mrs. Oscar W (Elisabeth Vilhelmina Berg)  female  27.0      0   \n",
       "9                Nasser, Mrs. Nicholas (Adele Achem)  female  14.0      1   \n",
       "\n",
       "   Parch            Ticket     Fare Cabin Embarked  \n",
       "0      0         A/5 21171   7.2500   NaN        S  \n",
       "1      0          PC 17599  71.2833   C85        C  \n",
       "2      0  STON/O2. 3101282   7.9250   NaN        S  \n",
       "3      0            113803  53.1000  C123        S  \n",
       "4      0            373450   8.0500   NaN        S  \n",
       "5      0            330877   8.4583   NaN        Q  \n",
       "6      0             17463  51.8625   E46        S  \n",
       "7      1            349909  21.0750   NaN        S  \n",
       "8      2            347742  11.1333   NaN        S  \n",
       "9      0            237736  30.0708   NaN        C  "
      ],
      "text/html": "<div>\n<style scoped>\n    .dataframe tbody tr th:only-of-type {\n        vertical-align: middle;\n    }\n\n    .dataframe tbody tr th {\n        vertical-align: top;\n    }\n\n    .dataframe thead th {\n        text-align: right;\n    }\n</style>\n<table border=\"1\" class=\"dataframe\">\n  <thead>\n    <tr style=\"text-align: right;\">\n      <th></th>\n      <th>PassengerId</th>\n      <th>Survived</th>\n      <th>Pclass</th>\n      <th>Name</th>\n      <th>Sex</th>\n      <th>Age</th>\n      <th>SibSp</th>\n      <th>Parch</th>\n      <th>Ticket</th>\n      <th>Fare</th>\n      <th>Cabin</th>\n      <th>Embarked</th>\n    </tr>\n  </thead>\n  <tbody>\n    <tr>\n      <th>0</th>\n      <td>1</td>\n      <td>0</td>\n      <td>3</td>\n      <td>Braund, Mr. Owen Harris</td>\n      <td>male</td>\n      <td>22.0</td>\n      <td>1</td>\n      <td>0</td>\n      <td>A/5 21171</td>\n      <td>7.2500</td>\n      <td>NaN</td>\n      <td>S</td>\n    </tr>\n    <tr>\n      <th>1</th>\n      <td>2</td>\n      <td>1</td>\n      <td>1</td>\n      <td>Cumings, Mrs. John Bradley (Florence Briggs Th...</td>\n      <td>female</td>\n      <td>38.0</td>\n      <td>1</td>\n      <td>0</td>\n      <td>PC 17599</td>\n      <td>71.2833</td>\n      <td>C85</td>\n      <td>C</td>\n    </tr>\n    <tr>\n      <th>2</th>\n      <td>3</td>\n      <td>1</td>\n      <td>3</td>\n      <td>Heikkinen, Miss. Laina</td>\n      <td>female</td>\n      <td>26.0</td>\n      <td>0</td>\n      <td>0</td>\n      <td>STON/O2. 3101282</td>\n      <td>7.9250</td>\n      <td>NaN</td>\n      <td>S</td>\n    </tr>\n    <tr>\n      <th>3</th>\n      <td>4</td>\n      <td>1</td>\n      <td>1</td>\n      <td>Futrelle, Mrs. Jacques Heath (Lily May Peel)</td>\n      <td>female</td>\n      <td>35.0</td>\n      <td>1</td>\n      <td>0</td>\n      <td>113803</td>\n      <td>53.1000</td>\n      <td>C123</td>\n      <td>S</td>\n    </tr>\n    <tr>\n      <th>4</th>\n      <td>5</td>\n      <td>0</td>\n      <td>3</td>\n      <td>Allen, Mr. William Henry</td>\n      <td>male</td>\n      <td>35.0</td>\n      <td>0</td>\n      <td>0</td>\n      <td>373450</td>\n      <td>8.0500</td>\n      <td>NaN</td>\n      <td>S</td>\n    </tr>\n    <tr>\n      <th>5</th>\n      <td>6</td>\n      <td>0</td>\n      <td>3</td>\n      <td>Moran, Mr. James</td>\n      <td>male</td>\n      <td>35.0</td>\n      <td>0</td>\n      <td>0</td>\n      <td>330877</td>\n      <td>8.4583</td>\n      <td>NaN</td>\n      <td>Q</td>\n    </tr>\n    <tr>\n      <th>6</th>\n      <td>7</td>\n      <td>0</td>\n      <td>1</td>\n      <td>McCarthy, Mr. Timothy J</td>\n      <td>male</td>\n      <td>54.0</td>\n      <td>0</td>\n      <td>0</td>\n      <td>17463</td>\n      <td>51.8625</td>\n      <td>E46</td>\n      <td>S</td>\n    </tr>\n    <tr>\n      <th>7</th>\n      <td>8</td>\n      <td>0</td>\n      <td>3</td>\n      <td>Palsson, Master. Gosta Leonard</td>\n      <td>male</td>\n      <td>2.0</td>\n      <td>3</td>\n      <td>1</td>\n      <td>349909</td>\n      <td>21.0750</td>\n      <td>NaN</td>\n      <td>S</td>\n    </tr>\n    <tr>\n      <th>8</th>\n      <td>9</td>\n      <td>1</td>\n      <td>3</td>\n      <td>Johnson, Mrs. Oscar W (Elisabeth Vilhelmina Berg)</td>\n      <td>female</td>\n      <td>27.0</td>\n      <td>0</td>\n      <td>2</td>\n      <td>347742</td>\n      <td>11.1333</td>\n      <td>NaN</td>\n      <td>S</td>\n    </tr>\n    <tr>\n      <th>9</th>\n      <td>10</td>\n      <td>1</td>\n      <td>2</td>\n      <td>Nasser, Mrs. Nicholas (Adele Achem)</td>\n      <td>female</td>\n      <td>14.0</td>\n      <td>1</td>\n      <td>0</td>\n      <td>237736</td>\n      <td>30.0708</td>\n      <td>NaN</td>\n      <td>C</td>\n    </tr>\n  </tbody>\n</table>\n</div>"
     },
     "metadata": {},
     "execution_count": 6
    }
   ],
   "source": [
    "titanic.head(10)"
   ]
  },
  {
   "cell_type": "code",
   "execution_count": 7,
   "metadata": {},
   "outputs": [
    {
     "output_type": "execute_result",
     "data": {
      "text/plain": [
       "0"
      ]
     },
     "metadata": {},
     "execution_count": 7
    }
   ],
   "source": [
    "titanic['Age'].isnull().sum()"
   ]
  },
  {
   "source": [
    "- Replace null values in 'Cabin'column with most occured value"
   ],
   "cell_type": "markdown",
   "metadata": {}
  },
  {
   "cell_type": "code",
   "execution_count": 8,
   "metadata": {},
   "outputs": [
    {
     "output_type": "execute_result",
     "data": {
      "text/plain": [
       "687"
      ]
     },
     "metadata": {},
     "execution_count": 8
    }
   ],
   "source": [
    "titanic['Cabin'].isnull().sum()"
   ]
  },
  {
   "cell_type": "code",
   "execution_count": 9,
   "metadata": {},
   "outputs": [],
   "source": [
    "titanic['Cabin'].fillna(df['Cabin'].mode()[2], inplace= True)"
   ]
  },
  {
   "cell_type": "code",
   "execution_count": 10,
   "metadata": {},
   "outputs": [
    {
     "output_type": "execute_result",
     "data": {
      "text/plain": [
       "   PassengerId  Survived  Pclass  \\\n",
       "0            1         0       3   \n",
       "1            2         1       1   \n",
       "2            3         1       3   \n",
       "3            4         1       1   \n",
       "4            5         0       3   \n",
       "\n",
       "                                                Name     Sex   Age  SibSp  \\\n",
       "0                            Braund, Mr. Owen Harris    male  22.0      1   \n",
       "1  Cumings, Mrs. John Bradley (Florence Briggs Th...  female  38.0      1   \n",
       "2                             Heikkinen, Miss. Laina  female  26.0      0   \n",
       "3       Futrelle, Mrs. Jacques Heath (Lily May Peel)  female  35.0      1   \n",
       "4                           Allen, Mr. William Henry    male  35.0      0   \n",
       "\n",
       "   Parch            Ticket     Fare Cabin Embarked  \n",
       "0      0         A/5 21171   7.2500    G6        S  \n",
       "1      0          PC 17599  71.2833   C85        C  \n",
       "2      0  STON/O2. 3101282   7.9250    G6        S  \n",
       "3      0            113803  53.1000  C123        S  \n",
       "4      0            373450   8.0500    G6        S  "
      ],
      "text/html": "<div>\n<style scoped>\n    .dataframe tbody tr th:only-of-type {\n        vertical-align: middle;\n    }\n\n    .dataframe tbody tr th {\n        vertical-align: top;\n    }\n\n    .dataframe thead th {\n        text-align: right;\n    }\n</style>\n<table border=\"1\" class=\"dataframe\">\n  <thead>\n    <tr style=\"text-align: right;\">\n      <th></th>\n      <th>PassengerId</th>\n      <th>Survived</th>\n      <th>Pclass</th>\n      <th>Name</th>\n      <th>Sex</th>\n      <th>Age</th>\n      <th>SibSp</th>\n      <th>Parch</th>\n      <th>Ticket</th>\n      <th>Fare</th>\n      <th>Cabin</th>\n      <th>Embarked</th>\n    </tr>\n  </thead>\n  <tbody>\n    <tr>\n      <th>0</th>\n      <td>1</td>\n      <td>0</td>\n      <td>3</td>\n      <td>Braund, Mr. Owen Harris</td>\n      <td>male</td>\n      <td>22.0</td>\n      <td>1</td>\n      <td>0</td>\n      <td>A/5 21171</td>\n      <td>7.2500</td>\n      <td>G6</td>\n      <td>S</td>\n    </tr>\n    <tr>\n      <th>1</th>\n      <td>2</td>\n      <td>1</td>\n      <td>1</td>\n      <td>Cumings, Mrs. John Bradley (Florence Briggs Th...</td>\n      <td>female</td>\n      <td>38.0</td>\n      <td>1</td>\n      <td>0</td>\n      <td>PC 17599</td>\n      <td>71.2833</td>\n      <td>C85</td>\n      <td>C</td>\n    </tr>\n    <tr>\n      <th>2</th>\n      <td>3</td>\n      <td>1</td>\n      <td>3</td>\n      <td>Heikkinen, Miss. Laina</td>\n      <td>female</td>\n      <td>26.0</td>\n      <td>0</td>\n      <td>0</td>\n      <td>STON/O2. 3101282</td>\n      <td>7.9250</td>\n      <td>G6</td>\n      <td>S</td>\n    </tr>\n    <tr>\n      <th>3</th>\n      <td>4</td>\n      <td>1</td>\n      <td>1</td>\n      <td>Futrelle, Mrs. Jacques Heath (Lily May Peel)</td>\n      <td>female</td>\n      <td>35.0</td>\n      <td>1</td>\n      <td>0</td>\n      <td>113803</td>\n      <td>53.1000</td>\n      <td>C123</td>\n      <td>S</td>\n    </tr>\n    <tr>\n      <th>4</th>\n      <td>5</td>\n      <td>0</td>\n      <td>3</td>\n      <td>Allen, Mr. William Henry</td>\n      <td>male</td>\n      <td>35.0</td>\n      <td>0</td>\n      <td>0</td>\n      <td>373450</td>\n      <td>8.0500</td>\n      <td>G6</td>\n      <td>S</td>\n    </tr>\n  </tbody>\n</table>\n</div>"
     },
     "metadata": {},
     "execution_count": 10
    }
   ],
   "source": [
    "titanic.head()"
   ]
  },
  {
   "cell_type": "code",
   "execution_count": 11,
   "metadata": {},
   "outputs": [
    {
     "output_type": "execute_result",
     "data": {
      "text/plain": [
       "0"
      ]
     },
     "metadata": {},
     "execution_count": 11
    }
   ],
   "source": [
    "titanic['Cabin'].isnull().sum()"
   ]
  },
  {
   "source": [
    "- Replace null values in 'Embarked' column with most occured value"
   ],
   "cell_type": "markdown",
   "metadata": {}
  },
  {
   "cell_type": "code",
   "execution_count": 12,
   "metadata": {},
   "outputs": [
    {
     "output_type": "execute_result",
     "data": {
      "text/plain": [
       "2"
      ]
     },
     "metadata": {},
     "execution_count": 12
    }
   ],
   "source": [
    "titanic['Embarked'].isnull().sum()"
   ]
  },
  {
   "cell_type": "code",
   "execution_count": 14,
   "metadata": {},
   "outputs": [],
   "source": [
    "titanic['Embarked'].fillna(titanic['Embarked'].mode()[0], inplace=True)"
   ]
  },
  {
   "cell_type": "code",
   "execution_count": 15,
   "metadata": {},
   "outputs": [
    {
     "output_type": "execute_result",
     "data": {
      "text/plain": [
       "0"
      ]
     },
     "metadata": {},
     "execution_count": 15
    }
   ],
   "source": [
    "titanic['Embarked'].isnull().sum()"
   ]
  },
  {
   "source": [
    "- After handling missing values, Convert Cabin, Embarked columns into numerical columns"
   ],
   "cell_type": "markdown",
   "metadata": {}
  },
  {
   "cell_type": "code",
   "execution_count": 16,
   "metadata": {},
   "outputs": [],
   "source": [
    "titanic2 = titanic.copy()"
   ]
  },
  {
   "cell_type": "code",
   "execution_count": 17,
   "metadata": {},
   "outputs": [],
   "source": [
    "from sklearn.preprocessing import LabelEncoder"
   ]
  },
  {
   "cell_type": "code",
   "execution_count": 18,
   "metadata": {},
   "outputs": [],
   "source": [
    "le = LabelEncoder()"
   ]
  },
  {
   "cell_type": "code",
   "execution_count": 19,
   "metadata": {},
   "outputs": [],
   "source": [
    "titanic2['Embarked'] = le.fit_transform(titanic2['Embarked'])"
   ]
  },
  {
   "cell_type": "code",
   "execution_count": 21,
   "metadata": {},
   "outputs": [
    {
     "output_type": "execute_result",
     "data": {
      "text/plain": [
       "   PassengerId  Survived  Pclass  \\\n",
       "0            1         0       3   \n",
       "1            2         1       1   \n",
       "2            3         1       3   \n",
       "3            4         1       1   \n",
       "4            5         0       3   \n",
       "\n",
       "                                                Name     Sex   Age  SibSp  \\\n",
       "0                            Braund, Mr. Owen Harris    male  22.0      1   \n",
       "1  Cumings, Mrs. John Bradley (Florence Briggs Th...  female  38.0      1   \n",
       "2                             Heikkinen, Miss. Laina  female  26.0      0   \n",
       "3       Futrelle, Mrs. Jacques Heath (Lily May Peel)  female  35.0      1   \n",
       "4                           Allen, Mr. William Henry    male  35.0      0   \n",
       "\n",
       "   Parch            Ticket     Fare Cabin  Embarked  \n",
       "0      0         A/5 21171   7.2500    G6         2  \n",
       "1      0          PC 17599  71.2833   C85         0  \n",
       "2      0  STON/O2. 3101282   7.9250    G6         2  \n",
       "3      0            113803  53.1000  C123         2  \n",
       "4      0            373450   8.0500    G6         2  "
      ],
      "text/html": "<div>\n<style scoped>\n    .dataframe tbody tr th:only-of-type {\n        vertical-align: middle;\n    }\n\n    .dataframe tbody tr th {\n        vertical-align: top;\n    }\n\n    .dataframe thead th {\n        text-align: right;\n    }\n</style>\n<table border=\"1\" class=\"dataframe\">\n  <thead>\n    <tr style=\"text-align: right;\">\n      <th></th>\n      <th>PassengerId</th>\n      <th>Survived</th>\n      <th>Pclass</th>\n      <th>Name</th>\n      <th>Sex</th>\n      <th>Age</th>\n      <th>SibSp</th>\n      <th>Parch</th>\n      <th>Ticket</th>\n      <th>Fare</th>\n      <th>Cabin</th>\n      <th>Embarked</th>\n    </tr>\n  </thead>\n  <tbody>\n    <tr>\n      <th>0</th>\n      <td>1</td>\n      <td>0</td>\n      <td>3</td>\n      <td>Braund, Mr. Owen Harris</td>\n      <td>male</td>\n      <td>22.0</td>\n      <td>1</td>\n      <td>0</td>\n      <td>A/5 21171</td>\n      <td>7.2500</td>\n      <td>G6</td>\n      <td>2</td>\n    </tr>\n    <tr>\n      <th>1</th>\n      <td>2</td>\n      <td>1</td>\n      <td>1</td>\n      <td>Cumings, Mrs. John Bradley (Florence Briggs Th...</td>\n      <td>female</td>\n      <td>38.0</td>\n      <td>1</td>\n      <td>0</td>\n      <td>PC 17599</td>\n      <td>71.2833</td>\n      <td>C85</td>\n      <td>0</td>\n    </tr>\n    <tr>\n      <th>2</th>\n      <td>3</td>\n      <td>1</td>\n      <td>3</td>\n      <td>Heikkinen, Miss. Laina</td>\n      <td>female</td>\n      <td>26.0</td>\n      <td>0</td>\n      <td>0</td>\n      <td>STON/O2. 3101282</td>\n      <td>7.9250</td>\n      <td>G6</td>\n      <td>2</td>\n    </tr>\n    <tr>\n      <th>3</th>\n      <td>4</td>\n      <td>1</td>\n      <td>1</td>\n      <td>Futrelle, Mrs. Jacques Heath (Lily May Peel)</td>\n      <td>female</td>\n      <td>35.0</td>\n      <td>1</td>\n      <td>0</td>\n      <td>113803</td>\n      <td>53.1000</td>\n      <td>C123</td>\n      <td>2</td>\n    </tr>\n    <tr>\n      <th>4</th>\n      <td>5</td>\n      <td>0</td>\n      <td>3</td>\n      <td>Allen, Mr. William Henry</td>\n      <td>male</td>\n      <td>35.0</td>\n      <td>0</td>\n      <td>0</td>\n      <td>373450</td>\n      <td>8.0500</td>\n      <td>G6</td>\n      <td>2</td>\n    </tr>\n  </tbody>\n</table>\n</div>"
     },
     "metadata": {},
     "execution_count": 21
    }
   ],
   "source": [
    "titanic2.head()"
   ]
  },
  {
   "cell_type": "code",
   "execution_count": 22,
   "metadata": {},
   "outputs": [],
   "source": [
    "titanic2['Cabin'] = le.fit_transform(titanic2['Cabin'])"
   ]
  },
  {
   "cell_type": "code",
   "execution_count": 24,
   "metadata": {},
   "outputs": [
    {
     "output_type": "execute_result",
     "data": {
      "text/plain": [
       "   PassengerId  Survived  Pclass  \\\n",
       "0            1         0       3   \n",
       "1            2         1       1   \n",
       "2            3         1       3   \n",
       "3            4         1       1   \n",
       "4            5         0       3   \n",
       "\n",
       "                                                Name     Sex   Age  SibSp  \\\n",
       "0                            Braund, Mr. Owen Harris    male  22.0      1   \n",
       "1  Cumings, Mrs. John Bradley (Florence Briggs Th...  female  38.0      1   \n",
       "2                             Heikkinen, Miss. Laina  female  26.0      0   \n",
       "3       Futrelle, Mrs. Jacques Heath (Lily May Peel)  female  35.0      1   \n",
       "4                           Allen, Mr. William Henry    male  35.0      0   \n",
       "\n",
       "   Parch            Ticket     Fare  Cabin  Embarked  \n",
       "0      0         A/5 21171   7.2500    145         2  \n",
       "1      0          PC 17599  71.2833     81         0  \n",
       "2      0  STON/O2. 3101282   7.9250    145         2  \n",
       "3      0            113803  53.1000     55         2  \n",
       "4      0            373450   8.0500    145         2  "
      ],
      "text/html": "<div>\n<style scoped>\n    .dataframe tbody tr th:only-of-type {\n        vertical-align: middle;\n    }\n\n    .dataframe tbody tr th {\n        vertical-align: top;\n    }\n\n    .dataframe thead th {\n        text-align: right;\n    }\n</style>\n<table border=\"1\" class=\"dataframe\">\n  <thead>\n    <tr style=\"text-align: right;\">\n      <th></th>\n      <th>PassengerId</th>\n      <th>Survived</th>\n      <th>Pclass</th>\n      <th>Name</th>\n      <th>Sex</th>\n      <th>Age</th>\n      <th>SibSp</th>\n      <th>Parch</th>\n      <th>Ticket</th>\n      <th>Fare</th>\n      <th>Cabin</th>\n      <th>Embarked</th>\n    </tr>\n  </thead>\n  <tbody>\n    <tr>\n      <th>0</th>\n      <td>1</td>\n      <td>0</td>\n      <td>3</td>\n      <td>Braund, Mr. Owen Harris</td>\n      <td>male</td>\n      <td>22.0</td>\n      <td>1</td>\n      <td>0</td>\n      <td>A/5 21171</td>\n      <td>7.2500</td>\n      <td>145</td>\n      <td>2</td>\n    </tr>\n    <tr>\n      <th>1</th>\n      <td>2</td>\n      <td>1</td>\n      <td>1</td>\n      <td>Cumings, Mrs. John Bradley (Florence Briggs Th...</td>\n      <td>female</td>\n      <td>38.0</td>\n      <td>1</td>\n      <td>0</td>\n      <td>PC 17599</td>\n      <td>71.2833</td>\n      <td>81</td>\n      <td>0</td>\n    </tr>\n    <tr>\n      <th>2</th>\n      <td>3</td>\n      <td>1</td>\n      <td>3</td>\n      <td>Heikkinen, Miss. Laina</td>\n      <td>female</td>\n      <td>26.0</td>\n      <td>0</td>\n      <td>0</td>\n      <td>STON/O2. 3101282</td>\n      <td>7.9250</td>\n      <td>145</td>\n      <td>2</td>\n    </tr>\n    <tr>\n      <th>3</th>\n      <td>4</td>\n      <td>1</td>\n      <td>1</td>\n      <td>Futrelle, Mrs. Jacques Heath (Lily May Peel)</td>\n      <td>female</td>\n      <td>35.0</td>\n      <td>1</td>\n      <td>0</td>\n      <td>113803</td>\n      <td>53.1000</td>\n      <td>55</td>\n      <td>2</td>\n    </tr>\n    <tr>\n      <th>4</th>\n      <td>5</td>\n      <td>0</td>\n      <td>3</td>\n      <td>Allen, Mr. William Henry</td>\n      <td>male</td>\n      <td>35.0</td>\n      <td>0</td>\n      <td>0</td>\n      <td>373450</td>\n      <td>8.0500</td>\n      <td>145</td>\n      <td>2</td>\n    </tr>\n  </tbody>\n</table>\n</div>"
     },
     "metadata": {},
     "execution_count": 24
    }
   ],
   "source": [
    "titanic2.head()"
   ]
  },
  {
   "source": [
    "- Display the plot of original data and robust scaler data"
   ],
   "cell_type": "markdown",
   "metadata": {}
  },
  {
   "cell_type": "code",
   "execution_count": 35,
   "metadata": {},
   "outputs": [
    {
     "output_type": "execute_result",
     "data": {
      "text/plain": [
       "   Unnamed: 0     TV  radio  newspaper  sales\n",
       "0           1  230.1   37.8       69.2   22.1\n",
       "1           2   44.5   39.3       45.1   10.4\n",
       "2           3   17.2   45.9       69.3    9.3\n",
       "3           4  151.5   41.3       58.5   18.5\n",
       "4           5  180.8   10.8       58.4   12.9"
      ],
      "text/html": "<div>\n<style scoped>\n    .dataframe tbody tr th:only-of-type {\n        vertical-align: middle;\n    }\n\n    .dataframe tbody tr th {\n        vertical-align: top;\n    }\n\n    .dataframe thead th {\n        text-align: right;\n    }\n</style>\n<table border=\"1\" class=\"dataframe\">\n  <thead>\n    <tr style=\"text-align: right;\">\n      <th></th>\n      <th>Unnamed: 0</th>\n      <th>TV</th>\n      <th>radio</th>\n      <th>newspaper</th>\n      <th>sales</th>\n    </tr>\n  </thead>\n  <tbody>\n    <tr>\n      <th>0</th>\n      <td>1</td>\n      <td>230.1</td>\n      <td>37.8</td>\n      <td>69.2</td>\n      <td>22.1</td>\n    </tr>\n    <tr>\n      <th>1</th>\n      <td>2</td>\n      <td>44.5</td>\n      <td>39.3</td>\n      <td>45.1</td>\n      <td>10.4</td>\n    </tr>\n    <tr>\n      <th>2</th>\n      <td>3</td>\n      <td>17.2</td>\n      <td>45.9</td>\n      <td>69.3</td>\n      <td>9.3</td>\n    </tr>\n    <tr>\n      <th>3</th>\n      <td>4</td>\n      <td>151.5</td>\n      <td>41.3</td>\n      <td>58.5</td>\n      <td>18.5</td>\n    </tr>\n    <tr>\n      <th>4</th>\n      <td>5</td>\n      <td>180.8</td>\n      <td>10.8</td>\n      <td>58.4</td>\n      <td>12.9</td>\n    </tr>\n  </tbody>\n</table>\n</div>"
     },
     "metadata": {},
     "execution_count": 35
    }
   ],
   "source": [
    "df = pd.read_csv('https://raw.githubusercontent.com/nagamounika5/Datasets/master/Advertisement.csv',)\n",
    "df.head()"
   ]
  },
  {
   "cell_type": "code",
   "execution_count": 36,
   "metadata": {},
   "outputs": [],
   "source": [
    "df.drop(['Unnamed: 0'], axis=1, inplace= True)"
   ]
  },
  {
   "cell_type": "code",
   "execution_count": 37,
   "metadata": {},
   "outputs": [
    {
     "output_type": "execute_result",
     "data": {
      "text/plain": [
       "        TV  radio  newspaper  sales\n",
       "0    230.1   37.8       69.2   22.1\n",
       "1     44.5   39.3       45.1   10.4\n",
       "2     17.2   45.9       69.3    9.3\n",
       "3    151.5   41.3       58.5   18.5\n",
       "4    180.8   10.8       58.4   12.9\n",
       "..     ...    ...        ...    ...\n",
       "195   38.2    3.7       13.8    7.6\n",
       "196   94.2    4.9        8.1    9.7\n",
       "197  177.0    9.3        6.4   12.8\n",
       "198  283.6   42.0       66.2   25.5\n",
       "199  232.1    8.6        8.7   13.4\n",
       "\n",
       "[200 rows x 4 columns]"
      ],
      "text/html": "<div>\n<style scoped>\n    .dataframe tbody tr th:only-of-type {\n        vertical-align: middle;\n    }\n\n    .dataframe tbody tr th {\n        vertical-align: top;\n    }\n\n    .dataframe thead th {\n        text-align: right;\n    }\n</style>\n<table border=\"1\" class=\"dataframe\">\n  <thead>\n    <tr style=\"text-align: right;\">\n      <th></th>\n      <th>TV</th>\n      <th>radio</th>\n      <th>newspaper</th>\n      <th>sales</th>\n    </tr>\n  </thead>\n  <tbody>\n    <tr>\n      <th>0</th>\n      <td>230.1</td>\n      <td>37.8</td>\n      <td>69.2</td>\n      <td>22.1</td>\n    </tr>\n    <tr>\n      <th>1</th>\n      <td>44.5</td>\n      <td>39.3</td>\n      <td>45.1</td>\n      <td>10.4</td>\n    </tr>\n    <tr>\n      <th>2</th>\n      <td>17.2</td>\n      <td>45.9</td>\n      <td>69.3</td>\n      <td>9.3</td>\n    </tr>\n    <tr>\n      <th>3</th>\n      <td>151.5</td>\n      <td>41.3</td>\n      <td>58.5</td>\n      <td>18.5</td>\n    </tr>\n    <tr>\n      <th>4</th>\n      <td>180.8</td>\n      <td>10.8</td>\n      <td>58.4</td>\n      <td>12.9</td>\n    </tr>\n    <tr>\n      <th>...</th>\n      <td>...</td>\n      <td>...</td>\n      <td>...</td>\n      <td>...</td>\n    </tr>\n    <tr>\n      <th>195</th>\n      <td>38.2</td>\n      <td>3.7</td>\n      <td>13.8</td>\n      <td>7.6</td>\n    </tr>\n    <tr>\n      <th>196</th>\n      <td>94.2</td>\n      <td>4.9</td>\n      <td>8.1</td>\n      <td>9.7</td>\n    </tr>\n    <tr>\n      <th>197</th>\n      <td>177.0</td>\n      <td>9.3</td>\n      <td>6.4</td>\n      <td>12.8</td>\n    </tr>\n    <tr>\n      <th>198</th>\n      <td>283.6</td>\n      <td>42.0</td>\n      <td>66.2</td>\n      <td>25.5</td>\n    </tr>\n    <tr>\n      <th>199</th>\n      <td>232.1</td>\n      <td>8.6</td>\n      <td>8.7</td>\n      <td>13.4</td>\n    </tr>\n  </tbody>\n</table>\n<p>200 rows × 4 columns</p>\n</div>"
     },
     "metadata": {},
     "execution_count": 37
    }
   ],
   "source": [
    "df"
   ]
  },
  {
   "cell_type": "code",
   "execution_count": 38,
   "metadata": {},
   "outputs": [],
   "source": [
    "from sklearn.preprocessing import RobustScaler"
   ]
  },
  {
   "cell_type": "code",
   "execution_count": 39,
   "metadata": {},
   "outputs": [],
   "source": [
    "rs = RobustScaler()"
   ]
  },
  {
   "cell_type": "code",
   "execution_count": 40,
   "metadata": {},
   "outputs": [
    {
     "output_type": "execute_result",
     "data": {
      "text/plain": [
       "array([[ 5.56247837e-01,  5.61205273e-01,  1.34312210e+00,\n",
       "         1.30960854e+00],\n",
       "       [-7.28625822e-01,  6.17702448e-01,  5.98145286e-01,\n",
       "        -3.55871886e-01],\n",
       "       [-9.17618553e-01,  8.66290019e-01,  1.34621329e+00,\n",
       "        -5.12455516e-01],\n",
       "       [ 1.21149187e-02,  6.93032015e-01,  1.01236476e+00,\n",
       "         7.97153025e-01],\n",
       "       [ 2.14953271e-01, -4.55743879e-01,  1.00927357e+00,\n",
       "         0.00000000e+00],\n",
       "       [-9.76462444e-01,  9.79284369e-01,  1.52241113e+00,\n",
       "        -8.11387900e-01],\n",
       "       [-6.38629283e-01,  3.72881356e-01, -6.95517774e-02,\n",
       "        -1.56583630e-01],\n",
       "       [-2.04569055e-01, -1.24293785e-01, -4.37403400e-01,\n",
       "         4.27046263e-02],\n",
       "       [-9.77154725e-01, -7.83427495e-01, -7.65069552e-01,\n",
       "        -1.15302491e+00],\n",
       "       [ 3.46486674e-01, -7.64595104e-01, -1.40649150e-01,\n",
       "        -3.27402135e-01],\n",
       "       [-5.79093112e-01, -6.44067797e-01, -4.79134467e-02,\n",
       "        -6.12099644e-01],\n",
       "       [ 4.49636552e-01,  4.14312618e-02, -6.72333849e-01,\n",
       "         6.40569395e-01],\n",
       "       [-8.71928003e-01,  4.59510358e-01,  1.24111283e+00,\n",
       "        -5.26690391e-01],\n",
       "       [-3.61716857e-01, -5.76271186e-01, -5.73415765e-01,\n",
       "        -4.55516014e-01],\n",
       "       [ 3.76254759e-01,  3.76647834e-01,  6.25965997e-01,\n",
       "         8.68327402e-01],\n",
       "       [ 3.16026307e-01,  9.34086629e-01,  8.39258114e-01,\n",
       "         1.35231317e+00],\n",
       "       [-5.67324334e-01,  5.16007533e-01,  2.72797527e+00,\n",
       "        -5.69395018e-02],\n",
       "       [ 9.11388024e-01,  6.29001883e-01,  9.28902628e-01,\n",
       "         1.63701068e+00],\n",
       "       [-5.57632399e-01, -9.03954802e-02, -2.30293663e-01,\n",
       "        -2.27758007e-01],\n",
       "       [-1.69608861e-02,  3.76647834e-02, -2.05564142e-01,\n",
       "         2.41992883e-01],\n",
       "       [ 4.75250952e-01,  1.80790960e-01,  8.54714065e-01,\n",
       "         7.25978648e-01],\n",
       "       [ 6.06784354e-01, -6.70433145e-01, -6.95517774e-02,\n",
       "        -5.69395018e-02],\n",
       "       [-9.45309796e-01, -2.63653484e-01,  7.37248841e-01,\n",
       "        -1.03914591e+00],\n",
       "       [ 5.43786777e-01, -2.25988701e-01,  1.39103555e-02,\n",
       "         3.70106762e-01],\n",
       "       [-6.05399792e-01, -3.87947269e-01, -2.30293663e-01,\n",
       "        -4.55516014e-01],\n",
       "       [ 7.83316026e-01, -7.30696798e-01, -1.93199382e-01,\n",
       "        -1.28113879e-01],\n",
       "       [-4.74212530e-02,  2.41054614e-01, -4.06491499e-01,\n",
       "         2.98932384e-01],\n",
       "       [ 6.25475943e-01, -2.33521657e-01, -8.80989181e-02,\n",
       "         4.27046263e-01],\n",
       "       [ 6.85704396e-01,  1.58192090e-01, -8.80989181e-02,\n",
       "         8.54092527e-01],\n",
       "       [-5.47940464e-01, -2.59887006e-01,  4.65224111e-01,\n",
       "        -3.41637011e-01],\n",
       "       [ 9.91000346e-01,  2.03389831e-01,  5.39412674e-01,\n",
       "         1.20996441e+00],\n",
       "       [-2.55105573e-01, -2.07156309e-01,  3.97217929e-01,\n",
       "        -1.42348754e-01],\n",
       "       [-3.63793700e-01, -8.06026365e-01,  1.31375580e-01,\n",
       "        -4.69750890e-01],\n",
       "       [ 8.02007615e-01, -1.09227872e-01, -7.86707883e-01,\n",
       "         6.40569395e-01],\n",
       "       [-3.74177916e-01, -8.09792844e-01, -5.67233385e-01,\n",
       "        -4.83985765e-01],\n",
       "       [ 9.75770163e-01, -7.08097928e-01, -5.33230294e-01,\n",
       "        -1.42348754e-02],\n",
       "       [ 8.11007269e-01,  7.87193974e-01, -6.41421947e-01,\n",
       "         1.77935943e+00],\n",
       "       [-5.19556940e-01,  9.98116761e-01,  6.16692427e-01,\n",
       "         2.56227758e-01],\n",
       "       [-7.38317757e-01,  1.43126177e-01,  2.89026275e-01,\n",
       "        -3.98576512e-01],\n",
       "       [ 5.41709934e-01,  5.57438795e-01,  1.93199382e-01,\n",
       "         1.22419929e+00],\n",
       "       [ 3.65178262e-01, -2.25988701e-02,  1.80834621e-01,\n",
       "         5.26690391e-01],\n",
       "       [ 1.88646591e-01,  3.95480226e-01,  4.00309119e-01,\n",
       "         5.97864769e-01],\n",
       "       [ 9.95846314e-01,  1.80790960e-01, -7.40340031e-01,\n",
       "         1.11032028e+00],\n",
       "       [ 3.95638629e-01, -5.46139360e-01,  2.00927357e-02,\n",
       "         0.00000000e+00],\n",
       "       [-8.62928349e-01,  1.05461394e-01,  5.42503864e-01,\n",
       "        -6.26334520e-01],\n",
       "       [ 1.75493250e-01, -1.50659134e-02,  1.77743431e-01,\n",
       "         2.84697509e-01],\n",
       "       [-4.15714780e-01, -4.89642185e-01,  3.07573416e-01,\n",
       "        -3.27402135e-01],\n",
       "       [ 6.24091381e-01,  7.00564972e-01, -2.24111283e-01,\n",
       "         1.46619217e+00],\n",
       "       [ 5.36171686e-01, -2.67419962e-01,  7.46522411e-01,\n",
       "         2.70462633e-01],\n",
       "       [-5.73554863e-01, -4.21845574e-01,  3.41576507e-01,\n",
       "        -4.55516014e-01],\n",
       "       [ 3.46486674e-01, -7.45762712e-01,  2.73570325e-01,\n",
       "        -2.13523132e-01],\n",
       "       [-3.41640706e-01, -5.00941620e-01, -6.84698609e-01,\n",
       "        -3.13167260e-01],\n",
       "       [ 4.61405331e-01,  7.08097928e-01,  4.28129830e-01,\n",
       "         1.38078292e+00],\n",
       "       [ 2.27414330e-01,  8.77589454e-01,  1.01854714e+00,\n",
       "         1.18149466e+00],\n",
       "       [ 7.81931464e-01,  2.22222222e-01, -3.04482226e-01,\n",
       "         1.03914591e+00],\n",
       "       [ 3.40256144e-01,  9.98116761e-01,  1.05873261e+00,\n",
       "         1.53736655e+00],\n",
       "       [-9.86154379e-01,  1.95856874e-01,  4.83771252e-01,\n",
       "        -1.05338078e+00],\n",
       "       [-9.38040845e-02, -1.39359699e-01, -2.82843895e-01,\n",
       "         4.27046263e-02],\n",
       "       [ 4.22637591e-01,  1.00564972e+00,  3.69397218e-01,\n",
       "         1.55160142e+00],\n",
       "       [ 4.21945310e-01,  2.48587571e-01, -5.08500773e-01,\n",
       "         7.82918149e-01],\n",
       "       [-6.66320526e-01, -7.87193974e-01, -1.34466770e-01,\n",
       "        -6.83274021e-01],\n",
       "       [ 7.72239529e-01,  7.45762712e-01,  8.94899536e-01,\n",
       "         1.60854093e+00],\n",
       "       [ 6.19937695e-01, -2.78719397e-01,  4.79134467e-02,\n",
       "         3.98576512e-01],\n",
       "       [-3.25718242e-01,  2.52354049e-01, -5.36321484e-01,\n",
       "         1.56583630e-01],\n",
       "       [-1.29110419e-01,  7.49529190e-01,  9.73724884e-02,\n",
       "         7.25978648e-01],\n",
       "       [-5.59016961e-01, -5.12241055e-01, -7.68160742e-01,\n",
       "        -5.12455516e-01],\n",
       "       [-8.18622361e-01,  6.40301318e-02, -7.27975270e-01,\n",
       "        -4.83985765e-01],\n",
       "       [-7.23433714e-02, -3.16384181e-01, -4.80680062e-01,\n",
       "         7.11743772e-02],\n",
       "       [ 6.06784354e-01,  1.73258004e-01, -4.55950541e-01,\n",
       "         8.54092527e-01],\n",
       "       [ 4.64174455e-01,  7.90960452e-01,  4.48222566e-02,\n",
       "         1.33807829e+00],\n",
       "       [ 3.41640706e-01,  2.90018832e-01,  4.00309119e-01,\n",
       "         7.68683274e-01],\n",
       "       [-2.76566286e-01, -3.23917137e-01,  1.83925811e-01,\n",
       "        -7.11743772e-02],\n",
       "       [-8.51159571e-01,  3.80414313e-01, -1.99381762e-01,\n",
       "        -5.83629893e-01],\n",
       "       [-1.40879197e-01, -6.47834275e-01,  1.71561051e-01,\n",
       "        -2.70462633e-01],\n",
       "       [ 4.40636899e-01,  6.40301318e-02, -3.91035549e-01,\n",
       "         5.83629893e-01],\n",
       "       [-9.19695396e-01,  7.83427495e-01,  1.96754250e+00,\n",
       "        -5.97864769e-01],\n",
       "       [-8.46313603e-01, -8.02259887e-01, -1.56105100e-01,\n",
       "        -8.54092527e-01],\n",
       "       [-2.02492212e-01,  2.10922787e-01, -3.57032457e-01,\n",
       "         1.85053381e-01],\n",
       "       [-9.99307719e-01,  2.63653484e-01, -5.05409583e-01,\n",
       "        -1.08185053e+00],\n",
       "       [-2.33644860e-01, -5.72504708e-01, -8.19165379e-02,\n",
       "        -2.70462633e-01],\n",
       "       [-5.07788162e-01,  1.43126177e-01, -1.06646059e-01,\n",
       "        -1.56583630e-01],\n",
       "       [ 6.23399100e-01, -7.08097928e-01,  3.44667697e-01,\n",
       "        -8.54092527e-02],\n",
       "       [-5.15403254e-01, -9.79284369e-02,  2.08655332e-01,\n",
       "        -2.27758007e-01],\n",
       "       [-5.63170647e-01,  8.13559322e-01,  3.04482226e-01,\n",
       "         9.96441281e-02],\n",
       "       [ 4.41329180e-01,  7.57062147e-01,  2.48840804e-01,\n",
       "         1.25266904e+00],\n",
       "       [ 3.00796123e-01, -1.69491525e-01,  1.23493045e+00,\n",
       "         3.27402135e-01],\n",
       "       [-5.08480443e-01,  1.73258004e-01, -3.01391036e-01,\n",
       "        -1.28113879e-01],\n",
       "       [-2.70335756e-01,  6.66666667e-01,  1.15765070e+00,\n",
       "         4.41281139e-01],\n",
       "       [-4.25406715e-01,  9.79284369e-02,  1.47295209e+00,\n",
       "         0.00000000e+00],\n",
       "       [-2.76566286e-01,  9.37853107e-01,  7.92890263e-01,\n",
       "         5.40925267e-01],\n",
       "       [-1.06957425e-01, -6.77966102e-01, -5.08500773e-01,\n",
       "        -2.41992883e-01],\n",
       "       [-8.38698512e-01, -8.06026365e-01,  2.24111283e-01,\n",
       "        -7.97153025e-01],\n",
       "       [ 4.70404984e-01,  3.99246704e-01,  1.02782071e+00,\n",
       "         9.25266904e-01],\n",
       "       [ 7.00242298e-01,  5.12241055e-01,  1.43894900e+00,\n",
       "         1.32384342e+00],\n",
       "       [-2.93181031e-01, -3.35216573e-01, -4.59041731e-01,\n",
       "        -1.99288256e-01],\n",
       "       [ 9.38040845e-02,  3.27683616e-01,  8.39258114e-01,\n",
       "         5.69395018e-01],\n",
       "       [ 3.31256490e-01, -7.30696798e-01, -6.13601236e-01,\n",
       "        -1.70818505e-01],\n",
       "       [ 2.43336795e-01, -7.15630885e-02, -1.15919629e-01,\n",
       "         3.70106762e-01],\n",
       "       [ 9.68847352e-01,  7.30696798e-01,  7.86707883e-01,\n",
       "         1.77935943e+00],\n",
       "       [-1.00726895e-01,  7.08097928e-01,  6.22874807e-01,\n",
       "         6.12099644e-01],\n",
       "       [ 5.02942195e-01, -7.00564972e-01,  7.43431221e-01,\n",
       "        -1.70818505e-01],\n",
       "       [ 1.01523018e+00,  5.04708098e-01,  2.32302937e+00,\n",
       "         1.55160142e+00],\n",
       "       [ 9.03080651e-01, -4.82109228e-01, -1.34466770e-01,\n",
       "         2.70462633e-01],\n",
       "       [ 2.64105227e-01, -2.14689266e-01, -2.42658423e-01,\n",
       "         2.56227758e-01],\n",
       "       [ 6.12322603e-01,  4.29378531e-01, -6.32148377e-01,\n",
       "         1.11032028e+00],\n",
       "       [-8.20353063e-02,  8.85122411e-01,  1.02782071e+00,\n",
       "         8.96797153e-01],\n",
       "       [-8.63620630e-01, -4.48210923e-01,  1.22102009e-01,\n",
       "        -8.11387900e-01],\n",
       "       [-4.10868813e-01, -8.51224105e-01, -7.88253478e-02,\n",
       "        -5.97864769e-01],\n",
       "       [-9.46002077e-01, -8.47457627e-01, -4.63678516e-03,\n",
       "        -1.08185053e+00],\n",
       "       [ 7.31394946e-01,  1.50659134e-01, -6.25965997e-01,\n",
       "         9.82206406e-01],\n",
       "       [ 5.26479751e-01, -5.53672316e-01,  9.50540958e-01,\n",
       "         7.11743772e-02],\n",
       "       [ 6.36552440e-01,  5.68738230e-01, -7.88253478e-02,\n",
       "         1.26690391e+00],\n",
       "       [ 1.79646937e-01, -2.82485876e-01, -7.21792890e-01,\n",
       "         1.70818505e-01],\n",
       "       [ 4.14330218e-01, -8.66290019e-02, -4.65224111e-01,\n",
       "         4.27046263e-01],\n",
       "       [-4.95327103e-01,  9.00188324e-01,  2.70479134e-01,\n",
       "         2.41992883e-01],\n",
       "       [-5.16787816e-01,  4.55743879e-01,  8.33075734e-01,\n",
       "        -4.27046263e-02],\n",
       "       [-7.30356525e-02, -3.23917137e-01, -4.63678516e-03,\n",
       "        -9.96441281e-02],\n",
       "       [-5.07788162e-01, -8.32391714e-01, -3.38485317e-01,\n",
       "        -4.98220641e-01],\n",
       "       [-1.66493596e-01,  5.27306968e-01,  1.65224111e+00,\n",
       "         4.27046263e-01],\n",
       "       [-9.02388370e-01, -2.59887006e-01, -1.06646059e-01,\n",
       "        -8.96797153e-01],\n",
       "       [-5.84977501e-02,  1.46892655e-01,  6.32148377e-01,\n",
       "         3.70106762e-01],\n",
       "       [-9.06542056e-01, -4.51977401e-02,  7.61978362e-01,\n",
       "        -8.39857651e-01],\n",
       "       [ 5.14018692e-01, -7.72128060e-01, -3.13755796e-01,\n",
       "        -1.85053381e-01],\n",
       "       [-1.84492904e-01,  4.40677966e-01, -4.12673879e-01,\n",
       "         3.27402135e-01],\n",
       "       [ 5.52094150e-01,  3.54048964e-01,  1.49768161e+00,\n",
       "         9.67971530e-01],\n",
       "       [-4.33021807e-01, -4.18079096e-01,  4.63678516e-03,\n",
       "        -3.27402135e-01],\n",
       "       [-9.82692973e-01,  6.02636535e-01,  7.68160742e-01,\n",
       "        -8.96797153e-01],\n",
       "       [-4.81481481e-01, -8.62523540e-01, -5.11591963e-01,\n",
       "        -5.83629893e-01],\n",
       "       [ 4.88404292e-01,  9.83050847e-01, -6.97063369e-01,\n",
       "         1.67971530e+00],\n",
       "       [-6.24091381e-01, -4.10546139e-01,  5.36321484e-01,\n",
       "        -4.55516014e-01],\n",
       "       [-1.03184493e+00,  6.29001883e-01, -5.27047913e-01,\n",
       "        -1.60854093e+00],\n",
       "       [ 7.99238491e-01, -7.53295669e-01,  5.33230294e-01,\n",
       "        -2.84697509e-02],\n",
       "       [-9.78539287e-01,  1.61958569e-01, -7.31066461e-01,\n",
       "        -1.02491103e+00],\n",
       "       [ 4.84942887e-01,  3.99246704e-01,  5.98145286e-01,\n",
       "         9.53736655e-01],\n",
       "       [-7.81239183e-01,  5.91337100e-01,  1.23183926e+00,\n",
       "        -2.98932384e-01],\n",
       "       [-7.02319142e-01,  9.07721281e-01, -5.33230294e-01,\n",
       "        -1.85053381e-01],\n",
       "       [-8.59466944e-01,  6.06403013e-01, -5.08500773e-01,\n",
       "        -4.83985765e-01],\n",
       "       [ 8.58082381e-01,  2.25988701e-01,  1.04945904e+00,\n",
       "         1.12455516e+00],\n",
       "       [-7.39010038e-01,  1.12994350e-01, -1.62287481e-01,\n",
       "        -4.69750890e-01],\n",
       "       [ 2.43336795e-01,  7.90960452e-01, -7.43431221e-01,\n",
       "         1.11032028e+00],\n",
       "       [-5.28556594e-01, -2.22222222e-01, -3.97217929e-01,\n",
       "        -2.84697509e-01],\n",
       "       [ 3.04257529e-01,  4.70809793e-01,  1.54095827e+00,\n",
       "         8.96797153e-01],\n",
       "       [ 4.89788854e-01,  3.87947269e-01,  3.75579598e-01,\n",
       "         1.02491103e+00],\n",
       "       [-3.12564901e-01, -6.47834275e-01,  2.67387944e-01,\n",
       "        -3.55871886e-01],\n",
       "       [-3.70716511e-01, -3.05084746e-01,  4.06491499e-01,\n",
       "        -2.13523132e-01],\n",
       "       [-6.54205607e-02, -7.90960452e-01, -5.17774343e-01,\n",
       "        -3.70106762e-01],\n",
       "       [ 6.25475943e-01, -5.87570621e-01, -5.27047913e-01,\n",
       "         4.27046263e-02],\n",
       "       [ 6.46936656e-01,  9.83050847e-01,  5.73415765e-01,\n",
       "         1.77935943e+00],\n",
       "       [-7.73624091e-01,  6.55367232e-01, -4.28129830e-01,\n",
       "        -2.84697509e-01],\n",
       "       [-7.27241260e-01,  1.09227872e-01, -1.59196291e-01,\n",
       "        -3.98576512e-01],\n",
       "       [ 9.06542056e-01, -3.38983051e-01,  3.47758887e-01,\n",
       "         4.55516014e-01],\n",
       "       [-1.99030807e-01, -5.46139360e-01,  7.09428130e-01,\n",
       "        -1.85053381e-01],\n",
       "       [ 3.31256490e-01,  1.50659134e-02, -3.57032457e-01,\n",
       "         5.26690391e-01],\n",
       "       [ 1.49186570e-01,  6.32768362e-01,  3.69397218e-01,\n",
       "         8.68327402e-01],\n",
       "       [ 2.63412946e-01, -6.77966102e-02, -5.02318393e-01,\n",
       "         3.84341637e-01],\n",
       "       [-1.00830737e+00, -4.25612053e-01, -6.19783617e-01,\n",
       "        -1.38078292e+00],\n",
       "       [-3.86638975e-01,  7.75894539e-01,  7.65069552e-01,\n",
       "         3.41637011e-01],\n",
       "       [ 3.46140533e-04, -8.13559322e-01, -4.48222566e-02,\n",
       "        -3.98576512e-01],\n",
       "       [-9.55694012e-01,  5.27306968e-01,  6.01236476e-01,\n",
       "        -7.97153025e-01],\n",
       "       [-1.24956732e-01, -1.69491525e-01,  2.73570325e-01,\n",
       "         0.00000000e+00],\n",
       "       [ 1.57493943e-01, -1.80790960e-01,  1.53013910e-01,\n",
       "         2.13523132e-01],\n",
       "       [-4.43406023e-01,  4.85875706e-01,  7.27975270e-01,\n",
       "         5.69395018e-02],\n",
       "       [ 2.67566632e-01, -1.80790960e-01, -4.63678516e-03,\n",
       "         2.84697509e-01],\n",
       "       [ 9.51886466e-02,  5.23540490e-01, -5.67233385e-01,\n",
       "         7.25978648e-01],\n",
       "       [-2.25337487e-01, -3.08851224e-01, -6.29057187e-01,\n",
       "        -1.42348754e-01],\n",
       "       [ 5.86708204e-01, -7.34463277e-01,  1.82534776e+00,\n",
       "        -1.42348754e-01],\n",
       "       [-9.12772586e-01,  5.53672316e-01, -1.28284389e-01,\n",
       "        -6.97508897e-01],\n",
       "       [ 3.94946348e-01, -6.66666667e-01, -1.96290572e-01,\n",
       "        -9.96441281e-02],\n",
       "       [ 4.54482520e-01,  2.63653484e-02,  9.84544049e-01,\n",
       "         5.97864769e-01],\n",
       "       [ 9.31464174e-01, -4.63276836e-01, -5.98145286e-01,\n",
       "         2.98932384e-01],\n",
       "       [-6.90550363e-01, -4.25612053e-01, -2.27202473e-01,\n",
       "        -6.40569395e-01],\n",
       "       [ 1.02111457e-01, -7.53295669e-02,  6.69242658e-01,\n",
       "         2.27758007e-01],\n",
       "       [-9.01003808e-01, -1.05461394e-01, -2.70479134e-01,\n",
       "        -7.54448399e-01],\n",
       "       [ 1.29110419e-01, -5.95103578e-01, -4.00309119e-01,\n",
       "        -1.70818505e-01],\n",
       "       [ 5.02942195e-01, -7.34463277e-01, -3.91035549e-01,\n",
       "        -1.99288256e-01],\n",
       "       [ 8.80235376e-01,  9.79284369e-01,  4.96136012e-01,\n",
       "         2.00711744e+00],\n",
       "       [ 6.82935272e-01,  2.74952919e-01, -1.68469861e-01,\n",
       "         1.03914591e+00],\n",
       "       [ 1.41571478e-01, -5.68738230e-01,  2.92117465e-01,\n",
       "        -1.70818505e-01],\n",
       "       [ 8.78850813e-01, -7.75894539e-01, -6.33693972e-02,\n",
       "        -1.56583630e-01],\n",
       "       [ 1.09726549e-01, -4.85875706e-01, -2.51931994e-01,\n",
       "        -4.27046263e-02],\n",
       "       [ 4.74212530e-02, -7.64595104e-01, -5.39412674e-01,\n",
       "        -3.41637011e-01],\n",
       "       [ 4.75943233e-01, -6.59133710e-01,  5.10046368e-02,\n",
       "        -9.96441281e-02],\n",
       "       [-6.47628937e-01, -6.47834275e-01,  1.22102009e-01,\n",
       "        -5.97864769e-01],\n",
       "       [ 9.54309450e-01,  7.57062147e-01,  1.42349304e+00,\n",
       "         1.89323843e+00],\n",
       "       [ 7.20318449e-01, -6.02636535e-02,  1.31375580e-01,\n",
       "         6.69039146e-01],\n",
       "       [ 3.82485289e-01,  8.36158192e-01, -1.90108192e-01,\n",
       "         1.38078292e+00],\n",
       "       [-7.09588093e-02, -7.83427495e-01,  2.62751159e-02,\n",
       "        -3.70106762e-01],\n",
       "       [ 2.86258221e-01,  2.18455744e-01, -2.33384853e-01,\n",
       "         6.26334520e-01],\n",
       "       [ 9.43232953e-01, -3.38983051e-01, -6.81607419e-01,\n",
       "         4.27046263e-01],\n",
       "       [-9.07234337e-01, -4.06779661e-01, -7.26429675e-02,\n",
       "        -8.82562278e-01],\n",
       "       [-7.63239875e-01,  6.85499058e-01, -6.16692427e-01,\n",
       "        -2.98932384e-01],\n",
       "       [-5.14018692e-01, -4.55743879e-01, -6.10510046e-01,\n",
       "        -4.27046263e-01],\n",
       "       [-9.17618553e-01, -7.08097928e-01,  1.80834621e-01,\n",
       "        -9.96441281e-01],\n",
       "       [ 1.18033922e-01,  7.19397363e-01, -6.84698609e-01,\n",
       "         9.53736655e-01],\n",
       "       [-3.46140533e-04,  4.78342750e-01, -6.10510046e-01,\n",
       "         6.26334520e-01],\n",
       "       [-7.72239529e-01, -7.23163842e-01, -3.69397218e-01,\n",
       "        -7.54448399e-01],\n",
       "       [-3.84562132e-01, -6.77966102e-01, -5.45595054e-01,\n",
       "        -4.55516014e-01],\n",
       "       [ 1.88646591e-01, -5.12241055e-01, -5.98145286e-01,\n",
       "        -1.42348754e-02],\n",
       "       [ 9.26618207e-01,  7.19397363e-01,  1.25038640e+00,\n",
       "         1.79359431e+00],\n",
       "       [ 5.70093458e-01, -5.38606403e-01, -5.27047913e-01,\n",
       "         7.11743772e-02]])"
      ]
     },
     "metadata": {},
     "execution_count": 40
    }
   ],
   "source": [
    "rs2 = rs.fit_transform(df)\n",
    "rs2"
   ]
  },
  {
   "cell_type": "code",
   "execution_count": 41,
   "metadata": {},
   "outputs": [
    {
     "output_type": "execute_result",
     "data": {
      "text/plain": [
       "         TV     radio  newspaper     sales\n",
       "0  0.556248  0.561205   1.343122  1.309609\n",
       "1 -0.728626  0.617702   0.598145 -0.355872\n",
       "2 -0.917619  0.866290   1.346213 -0.512456\n",
       "3  0.012115  0.693032   1.012365  0.797153\n",
       "4  0.214953 -0.455744   1.009274  0.000000"
      ],
      "text/html": "<div>\n<style scoped>\n    .dataframe tbody tr th:only-of-type {\n        vertical-align: middle;\n    }\n\n    .dataframe tbody tr th {\n        vertical-align: top;\n    }\n\n    .dataframe thead th {\n        text-align: right;\n    }\n</style>\n<table border=\"1\" class=\"dataframe\">\n  <thead>\n    <tr style=\"text-align: right;\">\n      <th></th>\n      <th>TV</th>\n      <th>radio</th>\n      <th>newspaper</th>\n      <th>sales</th>\n    </tr>\n  </thead>\n  <tbody>\n    <tr>\n      <th>0</th>\n      <td>0.556248</td>\n      <td>0.561205</td>\n      <td>1.343122</td>\n      <td>1.309609</td>\n    </tr>\n    <tr>\n      <th>1</th>\n      <td>-0.728626</td>\n      <td>0.617702</td>\n      <td>0.598145</td>\n      <td>-0.355872</td>\n    </tr>\n    <tr>\n      <th>2</th>\n      <td>-0.917619</td>\n      <td>0.866290</td>\n      <td>1.346213</td>\n      <td>-0.512456</td>\n    </tr>\n    <tr>\n      <th>3</th>\n      <td>0.012115</td>\n      <td>0.693032</td>\n      <td>1.012365</td>\n      <td>0.797153</td>\n    </tr>\n    <tr>\n      <th>4</th>\n      <td>0.214953</td>\n      <td>-0.455744</td>\n      <td>1.009274</td>\n      <td>0.000000</td>\n    </tr>\n  </tbody>\n</table>\n</div>"
     },
     "metadata": {},
     "execution_count": 41
    }
   ],
   "source": [
    "rs2 = pd.DataFrame(rs2, columns = df.columns)\n",
    "rs2.head()"
   ]
  },
  {
   "cell_type": "code",
   "execution_count": 44,
   "metadata": {},
   "outputs": [],
   "source": [
    "import seaborn as sns\n",
    "import matplotlib.pyplot as plt"
   ]
  },
  {
   "cell_type": "code",
   "execution_count": 45,
   "metadata": {},
   "outputs": [
    {
     "output_type": "execute_result",
     "data": {
      "text/plain": [
       "<AxesSubplot:xlabel='TV', ylabel='Density'>"
      ]
     },
     "metadata": {},
     "execution_count": 45
    },
    {
     "output_type": "display_data",
     "data": {
      "text/plain": "<Figure size 648x360 with 2 Axes>",
      "image/svg+xml": "<?xml version=\"1.0\" encoding=\"utf-8\" standalone=\"no\"?>\r\n<!DOCTYPE svg PUBLIC \"-//W3C//DTD SVG 1.1//EN\"\r\n  \"http://www.w3.org/Graphics/SVG/1.1/DTD/svg11.dtd\">\r\n<!-- Created with matplotlib (https://matplotlib.org/) -->\r\n<svg height=\"316.55625pt\" version=\"1.1\" viewBox=\"0 0 559.54375 316.55625\" width=\"559.54375pt\" xmlns=\"http://www.w3.org/2000/svg\" xmlns:xlink=\"http://www.w3.org/1999/xlink\">\r\n <metadata>\r\n  <rdf:RDF xmlns:cc=\"http://creativecommons.org/ns#\" xmlns:dc=\"http://purl.org/dc/elements/1.1/\" xmlns:rdf=\"http://www.w3.org/1999/02/22-rdf-syntax-ns#\">\r\n   <cc:Work>\r\n    <dc:type rdf:resource=\"http://purl.org/dc/dcmitype/StillImage\"/>\r\n    <dc:date>2021-06-26T16:36:06.283002</dc:date>\r\n    <dc:format>image/svg+xml</dc:format>\r\n    <dc:creator>\r\n     <cc:Agent>\r\n      <dc:title>Matplotlib v3.3.2, https://matplotlib.org/</dc:title>\r\n     </cc:Agent>\r\n    </dc:creator>\r\n   </cc:Work>\r\n  </rdf:RDF>\r\n </metadata>\r\n <defs>\r\n  <style type=\"text/css\">*{stroke-linecap:butt;stroke-linejoin:round;}</style>\r\n </defs>\r\n <g id=\"figure_1\">\r\n  <g id=\"patch_1\">\r\n   <path d=\"M 0 316.55625 \r\nL 559.54375 316.55625 \r\nL 559.54375 0 \r\nL 0 0 \r\nz\r\n\" style=\"fill:none;\"/>\r\n  </g>\r\n  <g id=\"axes_1\">\r\n   <g id=\"patch_2\">\r\n    <path d=\"M 50.14375 279 \r\nL 278.416477 279 \r\nL 278.416477 7.2 \r\nL 50.14375 7.2 \r\nz\r\n\" style=\"fill:#ffffff;\"/>\r\n   </g>\r\n   <g id=\"matplotlib.axis_1\">\r\n    <g id=\"xtick_1\">\r\n     <g id=\"line2d_1\">\r\n      <defs>\r\n       <path d=\"M 0 0 \r\nL 0 3.5 \r\n\" id=\"ma94015a583\" style=\"stroke:#000000;stroke-width:0.8;\"/>\r\n      </defs>\r\n      <g>\r\n       <use style=\"stroke:#000000;stroke-width:0.8;\" x=\"55.515486\" xlink:href=\"#ma94015a583\" y=\"279\"/>\r\n      </g>\r\n     </g>\r\n     <g id=\"text_1\">\r\n      <!-- −100 -->\r\n      <g transform=\"translate(41.781893 293.598437)scale(0.1 -0.1)\">\r\n       <defs>\r\n        <path d=\"M 10.59375 35.5 \r\nL 73.1875 35.5 \r\nL 73.1875 27.203125 \r\nL 10.59375 27.203125 \r\nz\r\n\" id=\"DejaVuSans-8722\"/>\r\n        <path d=\"M 12.40625 8.296875 \r\nL 28.515625 8.296875 \r\nL 28.515625 63.921875 \r\nL 10.984375 60.40625 \r\nL 10.984375 69.390625 \r\nL 28.421875 72.90625 \r\nL 38.28125 72.90625 \r\nL 38.28125 8.296875 \r\nL 54.390625 8.296875 \r\nL 54.390625 0 \r\nL 12.40625 0 \r\nz\r\n\" id=\"DejaVuSans-49\"/>\r\n        <path d=\"M 31.78125 66.40625 \r\nQ 24.171875 66.40625 20.328125 58.90625 \r\nQ 16.5 51.421875 16.5 36.375 \r\nQ 16.5 21.390625 20.328125 13.890625 \r\nQ 24.171875 6.390625 31.78125 6.390625 \r\nQ 39.453125 6.390625 43.28125 13.890625 \r\nQ 47.125 21.390625 47.125 36.375 \r\nQ 47.125 51.421875 43.28125 58.90625 \r\nQ 39.453125 66.40625 31.78125 66.40625 \r\nz\r\nM 31.78125 74.21875 \r\nQ 44.046875 74.21875 50.515625 64.515625 \r\nQ 56.984375 54.828125 56.984375 36.375 \r\nQ 56.984375 17.96875 50.515625 8.265625 \r\nQ 44.046875 -1.421875 31.78125 -1.421875 \r\nQ 19.53125 -1.421875 13.0625 8.265625 \r\nQ 6.59375 17.96875 6.59375 36.375 \r\nQ 6.59375 54.828125 13.0625 64.515625 \r\nQ 19.53125 74.21875 31.78125 74.21875 \r\nz\r\n\" id=\"DejaVuSans-48\"/>\r\n       </defs>\r\n       <use xlink:href=\"#DejaVuSans-8722\"/>\r\n       <use x=\"83.789062\" xlink:href=\"#DejaVuSans-49\"/>\r\n       <use x=\"147.412109\" xlink:href=\"#DejaVuSans-48\"/>\r\n       <use x=\"211.035156\" xlink:href=\"#DejaVuSans-48\"/>\r\n      </g>\r\n     </g>\r\n    </g>\r\n    <g id=\"xtick_2\">\r\n     <g id=\"line2d_2\">\r\n      <g>\r\n       <use style=\"stroke:#000000;stroke-width:0.8;\" x=\"99.275143\" xlink:href=\"#ma94015a583\" y=\"279\"/>\r\n      </g>\r\n     </g>\r\n     <g id=\"text_2\">\r\n      <!-- 0 -->\r\n      <g transform=\"translate(96.093893 293.598437)scale(0.1 -0.1)\">\r\n       <use xlink:href=\"#DejaVuSans-48\"/>\r\n      </g>\r\n     </g>\r\n    </g>\r\n    <g id=\"xtick_3\">\r\n     <g id=\"line2d_3\">\r\n      <g>\r\n       <use style=\"stroke:#000000;stroke-width:0.8;\" x=\"143.0348\" xlink:href=\"#ma94015a583\" y=\"279\"/>\r\n      </g>\r\n     </g>\r\n     <g id=\"text_3\">\r\n      <!-- 100 -->\r\n      <g transform=\"translate(133.49105 293.598437)scale(0.1 -0.1)\">\r\n       <use xlink:href=\"#DejaVuSans-49\"/>\r\n       <use x=\"63.623047\" xlink:href=\"#DejaVuSans-48\"/>\r\n       <use x=\"127.246094\" xlink:href=\"#DejaVuSans-48\"/>\r\n      </g>\r\n     </g>\r\n    </g>\r\n    <g id=\"xtick_4\">\r\n     <g id=\"line2d_4\">\r\n      <g>\r\n       <use style=\"stroke:#000000;stroke-width:0.8;\" x=\"186.794457\" xlink:href=\"#ma94015a583\" y=\"279\"/>\r\n      </g>\r\n     </g>\r\n     <g id=\"text_4\">\r\n      <!-- 200 -->\r\n      <g transform=\"translate(177.250707 293.598437)scale(0.1 -0.1)\">\r\n       <defs>\r\n        <path d=\"M 19.1875 8.296875 \r\nL 53.609375 8.296875 \r\nL 53.609375 0 \r\nL 7.328125 0 \r\nL 7.328125 8.296875 \r\nQ 12.9375 14.109375 22.625 23.890625 \r\nQ 32.328125 33.6875 34.8125 36.53125 \r\nQ 39.546875 41.84375 41.421875 45.53125 \r\nQ 43.3125 49.21875 43.3125 52.78125 \r\nQ 43.3125 58.59375 39.234375 62.25 \r\nQ 35.15625 65.921875 28.609375 65.921875 \r\nQ 23.96875 65.921875 18.8125 64.3125 \r\nQ 13.671875 62.703125 7.8125 59.421875 \r\nL 7.8125 69.390625 \r\nQ 13.765625 71.78125 18.9375 73 \r\nQ 24.125 74.21875 28.421875 74.21875 \r\nQ 39.75 74.21875 46.484375 68.546875 \r\nQ 53.21875 62.890625 53.21875 53.421875 \r\nQ 53.21875 48.921875 51.53125 44.890625 \r\nQ 49.859375 40.875 45.40625 35.40625 \r\nQ 44.1875 33.984375 37.640625 27.21875 \r\nQ 31.109375 20.453125 19.1875 8.296875 \r\nz\r\n\" id=\"DejaVuSans-50\"/>\r\n       </defs>\r\n       <use xlink:href=\"#DejaVuSans-50\"/>\r\n       <use x=\"63.623047\" xlink:href=\"#DejaVuSans-48\"/>\r\n       <use x=\"127.246094\" xlink:href=\"#DejaVuSans-48\"/>\r\n      </g>\r\n     </g>\r\n    </g>\r\n    <g id=\"xtick_5\">\r\n     <g id=\"line2d_5\">\r\n      <g>\r\n       <use style=\"stroke:#000000;stroke-width:0.8;\" x=\"230.554114\" xlink:href=\"#ma94015a583\" y=\"279\"/>\r\n      </g>\r\n     </g>\r\n     <g id=\"text_5\">\r\n      <!-- 300 -->\r\n      <g transform=\"translate(221.010364 293.598437)scale(0.1 -0.1)\">\r\n       <defs>\r\n        <path d=\"M 40.578125 39.3125 \r\nQ 47.65625 37.796875 51.625 33 \r\nQ 55.609375 28.21875 55.609375 21.1875 \r\nQ 55.609375 10.40625 48.1875 4.484375 \r\nQ 40.765625 -1.421875 27.09375 -1.421875 \r\nQ 22.515625 -1.421875 17.65625 -0.515625 \r\nQ 12.796875 0.390625 7.625 2.203125 \r\nL 7.625 11.71875 \r\nQ 11.71875 9.328125 16.59375 8.109375 \r\nQ 21.484375 6.890625 26.8125 6.890625 \r\nQ 36.078125 6.890625 40.9375 10.546875 \r\nQ 45.796875 14.203125 45.796875 21.1875 \r\nQ 45.796875 27.640625 41.28125 31.265625 \r\nQ 36.765625 34.90625 28.71875 34.90625 \r\nL 20.21875 34.90625 \r\nL 20.21875 43.015625 \r\nL 29.109375 43.015625 \r\nQ 36.375 43.015625 40.234375 45.921875 \r\nQ 44.09375 48.828125 44.09375 54.296875 \r\nQ 44.09375 59.90625 40.109375 62.90625 \r\nQ 36.140625 65.921875 28.71875 65.921875 \r\nQ 24.65625 65.921875 20.015625 65.03125 \r\nQ 15.375 64.15625 9.8125 62.3125 \r\nL 9.8125 71.09375 \r\nQ 15.4375 72.65625 20.34375 73.4375 \r\nQ 25.25 74.21875 29.59375 74.21875 \r\nQ 40.828125 74.21875 47.359375 69.109375 \r\nQ 53.90625 64.015625 53.90625 55.328125 \r\nQ 53.90625 49.265625 50.4375 45.09375 \r\nQ 46.96875 40.921875 40.578125 39.3125 \r\nz\r\n\" id=\"DejaVuSans-51\"/>\r\n       </defs>\r\n       <use xlink:href=\"#DejaVuSans-51\"/>\r\n       <use x=\"63.623047\" xlink:href=\"#DejaVuSans-48\"/>\r\n       <use x=\"127.246094\" xlink:href=\"#DejaVuSans-48\"/>\r\n      </g>\r\n     </g>\r\n    </g>\r\n    <g id=\"xtick_6\">\r\n     <g id=\"line2d_6\">\r\n      <g>\r\n       <use style=\"stroke:#000000;stroke-width:0.8;\" x=\"274.313771\" xlink:href=\"#ma94015a583\" y=\"279\"/>\r\n      </g>\r\n     </g>\r\n     <g id=\"text_6\">\r\n      <!-- 400 -->\r\n      <g transform=\"translate(264.770021 293.598437)scale(0.1 -0.1)\">\r\n       <defs>\r\n        <path d=\"M 37.796875 64.3125 \r\nL 12.890625 25.390625 \r\nL 37.796875 25.390625 \r\nz\r\nM 35.203125 72.90625 \r\nL 47.609375 72.90625 \r\nL 47.609375 25.390625 \r\nL 58.015625 25.390625 \r\nL 58.015625 17.1875 \r\nL 47.609375 17.1875 \r\nL 47.609375 0 \r\nL 37.796875 0 \r\nL 37.796875 17.1875 \r\nL 4.890625 17.1875 \r\nL 4.890625 26.703125 \r\nz\r\n\" id=\"DejaVuSans-52\"/>\r\n       </defs>\r\n       <use xlink:href=\"#DejaVuSans-52\"/>\r\n       <use x=\"63.623047\" xlink:href=\"#DejaVuSans-48\"/>\r\n       <use x=\"127.246094\" xlink:href=\"#DejaVuSans-48\"/>\r\n      </g>\r\n     </g>\r\n    </g>\r\n    <g id=\"text_7\">\r\n     <!-- TV -->\r\n     <g transform=\"translate(157.805895 307.276562)scale(0.1 -0.1)\">\r\n      <defs>\r\n       <path d=\"M -0.296875 72.90625 \r\nL 61.375 72.90625 \r\nL 61.375 64.59375 \r\nL 35.5 64.59375 \r\nL 35.5 0 \r\nL 25.59375 0 \r\nL 25.59375 64.59375 \r\nL -0.296875 64.59375 \r\nz\r\n\" id=\"DejaVuSans-84\"/>\r\n       <path d=\"M 28.609375 0 \r\nL 0.78125 72.90625 \r\nL 11.078125 72.90625 \r\nL 34.1875 11.53125 \r\nL 57.328125 72.90625 \r\nL 67.578125 72.90625 \r\nL 39.796875 0 \r\nz\r\n\" id=\"DejaVuSans-86\"/>\r\n      </defs>\r\n      <use xlink:href=\"#DejaVuSans-84\"/>\r\n      <use x=\"61.083984\" xlink:href=\"#DejaVuSans-86\"/>\r\n     </g>\r\n    </g>\r\n   </g>\r\n   <g id=\"matplotlib.axis_2\">\r\n    <g id=\"ytick_1\">\r\n     <g id=\"line2d_7\">\r\n      <defs>\r\n       <path d=\"M 0 0 \r\nL -3.5 0 \r\n\" id=\"m960f504c11\" style=\"stroke:#000000;stroke-width:0.8;\"/>\r\n      </defs>\r\n      <g>\r\n       <use style=\"stroke:#000000;stroke-width:0.8;\" x=\"50.14375\" xlink:href=\"#m960f504c11\" y=\"279\"/>\r\n      </g>\r\n     </g>\r\n     <g id=\"text_8\">\r\n      <!-- 0.00 -->\r\n      <g transform=\"translate(20.878125 282.799219)scale(0.1 -0.1)\">\r\n       <defs>\r\n        <path d=\"M 10.6875 12.40625 \r\nL 21 12.40625 \r\nL 21 0 \r\nL 10.6875 0 \r\nz\r\n\" id=\"DejaVuSans-46\"/>\r\n       </defs>\r\n       <use xlink:href=\"#DejaVuSans-48\"/>\r\n       <use x=\"63.623047\" xlink:href=\"#DejaVuSans-46\"/>\r\n       <use x=\"95.410156\" xlink:href=\"#DejaVuSans-48\"/>\r\n       <use x=\"159.033203\" xlink:href=\"#DejaVuSans-48\"/>\r\n      </g>\r\n     </g>\r\n    </g>\r\n    <g id=\"ytick_2\">\r\n     <g id=\"line2d_8\">\r\n      <g>\r\n       <use style=\"stroke:#000000;stroke-width:0.8;\" x=\"50.14375\" xlink:href=\"#m960f504c11\" y=\"246.682253\"/>\r\n      </g>\r\n     </g>\r\n     <g id=\"text_9\">\r\n      <!-- 0.01 -->\r\n      <g transform=\"translate(20.878125 250.481472)scale(0.1 -0.1)\">\r\n       <use xlink:href=\"#DejaVuSans-48\"/>\r\n       <use x=\"63.623047\" xlink:href=\"#DejaVuSans-46\"/>\r\n       <use x=\"95.410156\" xlink:href=\"#DejaVuSans-48\"/>\r\n       <use x=\"159.033203\" xlink:href=\"#DejaVuSans-49\"/>\r\n      </g>\r\n     </g>\r\n    </g>\r\n    <g id=\"ytick_3\">\r\n     <g id=\"line2d_9\">\r\n      <g>\r\n       <use style=\"stroke:#000000;stroke-width:0.8;\" x=\"50.14375\" xlink:href=\"#m960f504c11\" y=\"214.364506\"/>\r\n      </g>\r\n     </g>\r\n     <g id=\"text_10\">\r\n      <!-- 0.02 -->\r\n      <g transform=\"translate(20.878125 218.163724)scale(0.1 -0.1)\">\r\n       <use xlink:href=\"#DejaVuSans-48\"/>\r\n       <use x=\"63.623047\" xlink:href=\"#DejaVuSans-46\"/>\r\n       <use x=\"95.410156\" xlink:href=\"#DejaVuSans-48\"/>\r\n       <use x=\"159.033203\" xlink:href=\"#DejaVuSans-50\"/>\r\n      </g>\r\n     </g>\r\n    </g>\r\n    <g id=\"ytick_4\">\r\n     <g id=\"line2d_10\">\r\n      <g>\r\n       <use style=\"stroke:#000000;stroke-width:0.8;\" x=\"50.14375\" xlink:href=\"#m960f504c11\" y=\"182.046759\"/>\r\n      </g>\r\n     </g>\r\n     <g id=\"text_11\">\r\n      <!-- 0.03 -->\r\n      <g transform=\"translate(20.878125 185.845977)scale(0.1 -0.1)\">\r\n       <use xlink:href=\"#DejaVuSans-48\"/>\r\n       <use x=\"63.623047\" xlink:href=\"#DejaVuSans-46\"/>\r\n       <use x=\"95.410156\" xlink:href=\"#DejaVuSans-48\"/>\r\n       <use x=\"159.033203\" xlink:href=\"#DejaVuSans-51\"/>\r\n      </g>\r\n     </g>\r\n    </g>\r\n    <g id=\"ytick_5\">\r\n     <g id=\"line2d_11\">\r\n      <g>\r\n       <use style=\"stroke:#000000;stroke-width:0.8;\" x=\"50.14375\" xlink:href=\"#m960f504c11\" y=\"149.729011\"/>\r\n      </g>\r\n     </g>\r\n     <g id=\"text_12\">\r\n      <!-- 0.04 -->\r\n      <g transform=\"translate(20.878125 153.52823)scale(0.1 -0.1)\">\r\n       <use xlink:href=\"#DejaVuSans-48\"/>\r\n       <use x=\"63.623047\" xlink:href=\"#DejaVuSans-46\"/>\r\n       <use x=\"95.410156\" xlink:href=\"#DejaVuSans-48\"/>\r\n       <use x=\"159.033203\" xlink:href=\"#DejaVuSans-52\"/>\r\n      </g>\r\n     </g>\r\n    </g>\r\n    <g id=\"ytick_6\">\r\n     <g id=\"line2d_12\">\r\n      <g>\r\n       <use style=\"stroke:#000000;stroke-width:0.8;\" x=\"50.14375\" xlink:href=\"#m960f504c11\" y=\"117.411264\"/>\r\n      </g>\r\n     </g>\r\n     <g id=\"text_13\">\r\n      <!-- 0.05 -->\r\n      <g transform=\"translate(20.878125 121.210483)scale(0.1 -0.1)\">\r\n       <defs>\r\n        <path d=\"M 10.796875 72.90625 \r\nL 49.515625 72.90625 \r\nL 49.515625 64.59375 \r\nL 19.828125 64.59375 \r\nL 19.828125 46.734375 \r\nQ 21.96875 47.46875 24.109375 47.828125 \r\nQ 26.265625 48.1875 28.421875 48.1875 \r\nQ 40.625 48.1875 47.75 41.5 \r\nQ 54.890625 34.8125 54.890625 23.390625 \r\nQ 54.890625 11.625 47.5625 5.09375 \r\nQ 40.234375 -1.421875 26.90625 -1.421875 \r\nQ 22.3125 -1.421875 17.546875 -0.640625 \r\nQ 12.796875 0.140625 7.71875 1.703125 \r\nL 7.71875 11.625 \r\nQ 12.109375 9.234375 16.796875 8.0625 \r\nQ 21.484375 6.890625 26.703125 6.890625 \r\nQ 35.15625 6.890625 40.078125 11.328125 \r\nQ 45.015625 15.765625 45.015625 23.390625 \r\nQ 45.015625 31 40.078125 35.4375 \r\nQ 35.15625 39.890625 26.703125 39.890625 \r\nQ 22.75 39.890625 18.8125 39.015625 \r\nQ 14.890625 38.140625 10.796875 36.28125 \r\nz\r\n\" id=\"DejaVuSans-53\"/>\r\n       </defs>\r\n       <use xlink:href=\"#DejaVuSans-48\"/>\r\n       <use x=\"63.623047\" xlink:href=\"#DejaVuSans-46\"/>\r\n       <use x=\"95.410156\" xlink:href=\"#DejaVuSans-48\"/>\r\n       <use x=\"159.033203\" xlink:href=\"#DejaVuSans-53\"/>\r\n      </g>\r\n     </g>\r\n    </g>\r\n    <g id=\"ytick_7\">\r\n     <g id=\"line2d_13\">\r\n      <g>\r\n       <use style=\"stroke:#000000;stroke-width:0.8;\" x=\"50.14375\" xlink:href=\"#m960f504c11\" y=\"85.093517\"/>\r\n      </g>\r\n     </g>\r\n     <g id=\"text_14\">\r\n      <!-- 0.06 -->\r\n      <g transform=\"translate(20.878125 88.892736)scale(0.1 -0.1)\">\r\n       <defs>\r\n        <path d=\"M 33.015625 40.375 \r\nQ 26.375 40.375 22.484375 35.828125 \r\nQ 18.609375 31.296875 18.609375 23.390625 \r\nQ 18.609375 15.53125 22.484375 10.953125 \r\nQ 26.375 6.390625 33.015625 6.390625 \r\nQ 39.65625 6.390625 43.53125 10.953125 \r\nQ 47.40625 15.53125 47.40625 23.390625 \r\nQ 47.40625 31.296875 43.53125 35.828125 \r\nQ 39.65625 40.375 33.015625 40.375 \r\nz\r\nM 52.59375 71.296875 \r\nL 52.59375 62.3125 \r\nQ 48.875 64.0625 45.09375 64.984375 \r\nQ 41.3125 65.921875 37.59375 65.921875 \r\nQ 27.828125 65.921875 22.671875 59.328125 \r\nQ 17.53125 52.734375 16.796875 39.40625 \r\nQ 19.671875 43.65625 24.015625 45.921875 \r\nQ 28.375 48.1875 33.59375 48.1875 \r\nQ 44.578125 48.1875 50.953125 41.515625 \r\nQ 57.328125 34.859375 57.328125 23.390625 \r\nQ 57.328125 12.15625 50.6875 5.359375 \r\nQ 44.046875 -1.421875 33.015625 -1.421875 \r\nQ 20.359375 -1.421875 13.671875 8.265625 \r\nQ 6.984375 17.96875 6.984375 36.375 \r\nQ 6.984375 53.65625 15.1875 63.9375 \r\nQ 23.390625 74.21875 37.203125 74.21875 \r\nQ 40.921875 74.21875 44.703125 73.484375 \r\nQ 48.484375 72.75 52.59375 71.296875 \r\nz\r\n\" id=\"DejaVuSans-54\"/>\r\n       </defs>\r\n       <use xlink:href=\"#DejaVuSans-48\"/>\r\n       <use x=\"63.623047\" xlink:href=\"#DejaVuSans-46\"/>\r\n       <use x=\"95.410156\" xlink:href=\"#DejaVuSans-48\"/>\r\n       <use x=\"159.033203\" xlink:href=\"#DejaVuSans-54\"/>\r\n      </g>\r\n     </g>\r\n    </g>\r\n    <g id=\"ytick_8\">\r\n     <g id=\"line2d_14\">\r\n      <g>\r\n       <use style=\"stroke:#000000;stroke-width:0.8;\" x=\"50.14375\" xlink:href=\"#m960f504c11\" y=\"52.77577\"/>\r\n      </g>\r\n     </g>\r\n     <g id=\"text_15\">\r\n      <!-- 0.07 -->\r\n      <g transform=\"translate(20.878125 56.574989)scale(0.1 -0.1)\">\r\n       <defs>\r\n        <path d=\"M 8.203125 72.90625 \r\nL 55.078125 72.90625 \r\nL 55.078125 68.703125 \r\nL 28.609375 0 \r\nL 18.3125 0 \r\nL 43.21875 64.59375 \r\nL 8.203125 64.59375 \r\nz\r\n\" id=\"DejaVuSans-55\"/>\r\n       </defs>\r\n       <use xlink:href=\"#DejaVuSans-48\"/>\r\n       <use x=\"63.623047\" xlink:href=\"#DejaVuSans-46\"/>\r\n       <use x=\"95.410156\" xlink:href=\"#DejaVuSans-48\"/>\r\n       <use x=\"159.033203\" xlink:href=\"#DejaVuSans-55\"/>\r\n      </g>\r\n     </g>\r\n    </g>\r\n    <g id=\"ytick_9\">\r\n     <g id=\"line2d_15\">\r\n      <g>\r\n       <use style=\"stroke:#000000;stroke-width:0.8;\" x=\"50.14375\" xlink:href=\"#m960f504c11\" y=\"20.458023\"/>\r\n      </g>\r\n     </g>\r\n     <g id=\"text_16\">\r\n      <!-- 0.08 -->\r\n      <g transform=\"translate(20.878125 24.257242)scale(0.1 -0.1)\">\r\n       <defs>\r\n        <path d=\"M 31.78125 34.625 \r\nQ 24.75 34.625 20.71875 30.859375 \r\nQ 16.703125 27.09375 16.703125 20.515625 \r\nQ 16.703125 13.921875 20.71875 10.15625 \r\nQ 24.75 6.390625 31.78125 6.390625 \r\nQ 38.8125 6.390625 42.859375 10.171875 \r\nQ 46.921875 13.96875 46.921875 20.515625 \r\nQ 46.921875 27.09375 42.890625 30.859375 \r\nQ 38.875 34.625 31.78125 34.625 \r\nz\r\nM 21.921875 38.8125 \r\nQ 15.578125 40.375 12.03125 44.71875 \r\nQ 8.5 49.078125 8.5 55.328125 \r\nQ 8.5 64.0625 14.71875 69.140625 \r\nQ 20.953125 74.21875 31.78125 74.21875 \r\nQ 42.671875 74.21875 48.875 69.140625 \r\nQ 55.078125 64.0625 55.078125 55.328125 \r\nQ 55.078125 49.078125 51.53125 44.71875 \r\nQ 48 40.375 41.703125 38.8125 \r\nQ 48.828125 37.15625 52.796875 32.3125 \r\nQ 56.78125 27.484375 56.78125 20.515625 \r\nQ 56.78125 9.90625 50.3125 4.234375 \r\nQ 43.84375 -1.421875 31.78125 -1.421875 \r\nQ 19.734375 -1.421875 13.25 4.234375 \r\nQ 6.78125 9.90625 6.78125 20.515625 \r\nQ 6.78125 27.484375 10.78125 32.3125 \r\nQ 14.796875 37.15625 21.921875 38.8125 \r\nz\r\nM 18.3125 54.390625 \r\nQ 18.3125 48.734375 21.84375 45.5625 \r\nQ 25.390625 42.390625 31.78125 42.390625 \r\nQ 38.140625 42.390625 41.71875 45.5625 \r\nQ 45.3125 48.734375 45.3125 54.390625 \r\nQ 45.3125 60.0625 41.71875 63.234375 \r\nQ 38.140625 66.40625 31.78125 66.40625 \r\nQ 25.390625 66.40625 21.84375 63.234375 \r\nQ 18.3125 60.0625 18.3125 54.390625 \r\nz\r\n\" id=\"DejaVuSans-56\"/>\r\n       </defs>\r\n       <use xlink:href=\"#DejaVuSans-48\"/>\r\n       <use x=\"63.623047\" xlink:href=\"#DejaVuSans-46\"/>\r\n       <use x=\"95.410156\" xlink:href=\"#DejaVuSans-48\"/>\r\n       <use x=\"159.033203\" xlink:href=\"#DejaVuSans-56\"/>\r\n      </g>\r\n     </g>\r\n    </g>\r\n    <g id=\"text_17\">\r\n     <!-- Density -->\r\n     <g transform=\"translate(14.798437 162.108594)rotate(-90)scale(0.1 -0.1)\">\r\n      <defs>\r\n       <path d=\"M 19.671875 64.796875 \r\nL 19.671875 8.109375 \r\nL 31.59375 8.109375 \r\nQ 46.6875 8.109375 53.6875 14.9375 \r\nQ 60.6875 21.78125 60.6875 36.53125 \r\nQ 60.6875 51.171875 53.6875 57.984375 \r\nQ 46.6875 64.796875 31.59375 64.796875 \r\nz\r\nM 9.8125 72.90625 \r\nL 30.078125 72.90625 \r\nQ 51.265625 72.90625 61.171875 64.09375 \r\nQ 71.09375 55.28125 71.09375 36.53125 \r\nQ 71.09375 17.671875 61.125 8.828125 \r\nQ 51.171875 0 30.078125 0 \r\nL 9.8125 0 \r\nz\r\n\" id=\"DejaVuSans-68\"/>\r\n       <path d=\"M 56.203125 29.59375 \r\nL 56.203125 25.203125 \r\nL 14.890625 25.203125 \r\nQ 15.484375 15.921875 20.484375 11.0625 \r\nQ 25.484375 6.203125 34.421875 6.203125 \r\nQ 39.59375 6.203125 44.453125 7.46875 \r\nQ 49.3125 8.734375 54.109375 11.28125 \r\nL 54.109375 2.78125 \r\nQ 49.265625 0.734375 44.1875 -0.34375 \r\nQ 39.109375 -1.421875 33.890625 -1.421875 \r\nQ 20.796875 -1.421875 13.15625 6.1875 \r\nQ 5.515625 13.8125 5.515625 26.8125 \r\nQ 5.515625 40.234375 12.765625 48.109375 \r\nQ 20.015625 56 32.328125 56 \r\nQ 43.359375 56 49.78125 48.890625 \r\nQ 56.203125 41.796875 56.203125 29.59375 \r\nz\r\nM 47.21875 32.234375 \r\nQ 47.125 39.59375 43.09375 43.984375 \r\nQ 39.0625 48.390625 32.421875 48.390625 \r\nQ 24.90625 48.390625 20.390625 44.140625 \r\nQ 15.875 39.890625 15.1875 32.171875 \r\nz\r\n\" id=\"DejaVuSans-101\"/>\r\n       <path d=\"M 54.890625 33.015625 \r\nL 54.890625 0 \r\nL 45.90625 0 \r\nL 45.90625 32.71875 \r\nQ 45.90625 40.484375 42.875 44.328125 \r\nQ 39.84375 48.1875 33.796875 48.1875 \r\nQ 26.515625 48.1875 22.3125 43.546875 \r\nQ 18.109375 38.921875 18.109375 30.90625 \r\nL 18.109375 0 \r\nL 9.078125 0 \r\nL 9.078125 54.6875 \r\nL 18.109375 54.6875 \r\nL 18.109375 46.1875 \r\nQ 21.34375 51.125 25.703125 53.5625 \r\nQ 30.078125 56 35.796875 56 \r\nQ 45.21875 56 50.046875 50.171875 \r\nQ 54.890625 44.34375 54.890625 33.015625 \r\nz\r\n\" id=\"DejaVuSans-110\"/>\r\n       <path d=\"M 44.28125 53.078125 \r\nL 44.28125 44.578125 \r\nQ 40.484375 46.53125 36.375 47.5 \r\nQ 32.28125 48.484375 27.875 48.484375 \r\nQ 21.1875 48.484375 17.84375 46.4375 \r\nQ 14.5 44.390625 14.5 40.28125 \r\nQ 14.5 37.15625 16.890625 35.375 \r\nQ 19.28125 33.59375 26.515625 31.984375 \r\nL 29.59375 31.296875 \r\nQ 39.15625 29.25 43.1875 25.515625 \r\nQ 47.21875 21.78125 47.21875 15.09375 \r\nQ 47.21875 7.46875 41.1875 3.015625 \r\nQ 35.15625 -1.421875 24.609375 -1.421875 \r\nQ 20.21875 -1.421875 15.453125 -0.5625 \r\nQ 10.6875 0.296875 5.421875 2 \r\nL 5.421875 11.28125 \r\nQ 10.40625 8.6875 15.234375 7.390625 \r\nQ 20.0625 6.109375 24.8125 6.109375 \r\nQ 31.15625 6.109375 34.5625 8.28125 \r\nQ 37.984375 10.453125 37.984375 14.40625 \r\nQ 37.984375 18.0625 35.515625 20.015625 \r\nQ 33.0625 21.96875 24.703125 23.78125 \r\nL 21.578125 24.515625 \r\nQ 13.234375 26.265625 9.515625 29.90625 \r\nQ 5.8125 33.546875 5.8125 39.890625 \r\nQ 5.8125 47.609375 11.28125 51.796875 \r\nQ 16.75 56 26.8125 56 \r\nQ 31.78125 56 36.171875 55.265625 \r\nQ 40.578125 54.546875 44.28125 53.078125 \r\nz\r\n\" id=\"DejaVuSans-115\"/>\r\n       <path d=\"M 9.421875 54.6875 \r\nL 18.40625 54.6875 \r\nL 18.40625 0 \r\nL 9.421875 0 \r\nz\r\nM 9.421875 75.984375 \r\nL 18.40625 75.984375 \r\nL 18.40625 64.59375 \r\nL 9.421875 64.59375 \r\nz\r\n\" id=\"DejaVuSans-105\"/>\r\n       <path d=\"M 18.3125 70.21875 \r\nL 18.3125 54.6875 \r\nL 36.8125 54.6875 \r\nL 36.8125 47.703125 \r\nL 18.3125 47.703125 \r\nL 18.3125 18.015625 \r\nQ 18.3125 11.328125 20.140625 9.421875 \r\nQ 21.96875 7.515625 27.59375 7.515625 \r\nL 36.8125 7.515625 \r\nL 36.8125 0 \r\nL 27.59375 0 \r\nQ 17.1875 0 13.234375 3.875 \r\nQ 9.28125 7.765625 9.28125 18.015625 \r\nL 9.28125 47.703125 \r\nL 2.6875 47.703125 \r\nL 2.6875 54.6875 \r\nL 9.28125 54.6875 \r\nL 9.28125 70.21875 \r\nz\r\n\" id=\"DejaVuSans-116\"/>\r\n       <path d=\"M 32.171875 -5.078125 \r\nQ 28.375 -14.84375 24.75 -17.8125 \r\nQ 21.140625 -20.796875 15.09375 -20.796875 \r\nL 7.90625 -20.796875 \r\nL 7.90625 -13.28125 \r\nL 13.1875 -13.28125 \r\nQ 16.890625 -13.28125 18.9375 -11.515625 \r\nQ 21 -9.765625 23.484375 -3.21875 \r\nL 25.09375 0.875 \r\nL 2.984375 54.6875 \r\nL 12.5 54.6875 \r\nL 29.59375 11.921875 \r\nL 46.6875 54.6875 \r\nL 56.203125 54.6875 \r\nz\r\n\" id=\"DejaVuSans-121\"/>\r\n      </defs>\r\n      <use xlink:href=\"#DejaVuSans-68\"/>\r\n      <use x=\"77.001953\" xlink:href=\"#DejaVuSans-101\"/>\r\n      <use x=\"138.525391\" xlink:href=\"#DejaVuSans-110\"/>\r\n      <use x=\"201.904297\" xlink:href=\"#DejaVuSans-115\"/>\r\n      <use x=\"254.003906\" xlink:href=\"#DejaVuSans-105\"/>\r\n      <use x=\"281.787109\" xlink:href=\"#DejaVuSans-116\"/>\r\n      <use x=\"320.996094\" xlink:href=\"#DejaVuSans-121\"/>\r\n     </g>\r\n    </g>\r\n   </g>\r\n   <g id=\"line2d_16\">\r\n    <path clip-path=\"url(#p3bea0becf3)\" d=\"M 60.519783 278.982973 \r\nL 70.947957 278.820856 \r\nL 76.162044 278.534252 \r\nL 80.333314 278.098572 \r\nL 84.504583 277.406443 \r\nL 88.675853 276.420839 \r\nL 92.847122 275.166088 \r\nL 106.403748 270.758601 \r\nL 109.532201 270.039209 \r\nL 113.70347 269.349373 \r\nL 117.87474 268.920456 \r\nL 123.088827 268.627735 \r\nL 130.388548 268.472219 \r\nL 137.68827 268.548665 \r\nL 147.073627 268.911864 \r\nL 156.458983 269.227857 \r\nL 161.67307 269.216778 \r\nL 166.887157 268.978701 \r\nL 172.101244 268.473872 \r\nL 178.358148 267.585465 \r\nL 185.65787 266.542916 \r\nL 189.82914 266.191846 \r\nL 192.957592 266.131594 \r\nL 196.086044 266.272726 \r\nL 199.214496 266.615282 \r\nL 203.385766 267.345773 \r\nL 208.599853 268.569681 \r\nL 216.942392 270.851768 \r\nL 236.755922 276.410529 \r\nL 240.927192 277.29133 \r\nL 245.098462 277.959008 \r\nL 249.269731 278.417395 \r\nL 254.483818 278.751096 \r\nL 261.78354 278.940584 \r\nL 268.040444 278.986181 \r\nL 268.040444 278.986181 \r\n\" style=\"fill:none;stroke:#1f77b4;stroke-linecap:square;stroke-width:1.5;\"/>\r\n   </g>\r\n   <g id=\"line2d_17\">\r\n    <path clip-path=\"url(#p3bea0becf3)\" d=\"M 92.520191 278.879986 \r\nL 93.228024 278.675659 \r\nL 93.758899 278.356235 \r\nL 94.289774 277.78592 \r\nL 94.820648 276.823607 \r\nL 95.351523 275.28973 \r\nL 95.882398 272.981354 \r\nL 96.413273 269.703615 \r\nL 97.121106 263.597077 \r\nL 98.005897 253.229509 \r\nL 100.660271 218.837937 \r\nL 101.368104 213.689827 \r\nL 101.898979 211.466798 \r\nL 102.252895 210.672665 \r\nL 102.606812 210.334971 \r\nL 102.960728 210.362306 \r\nL 103.314645 210.664009 \r\nL 103.84552 211.454372 \r\nL 105.084228 213.900128 \r\nL 106.676852 216.910853 \r\nL 107.561643 218.195447 \r\nL 108.269476 218.85688 \r\nL 108.800351 219.093905 \r\nL 109.331226 219.121922 \r\nL 110.216017 218.8677 \r\nL 111.454725 218.508533 \r\nL 112.516475 218.502955 \r\nL 113.578224 218.430476 \r\nL 114.463016 218.100431 \r\nL 115.347807 217.794046 \r\nL 115.878682 217.892435 \r\nL 116.232598 218.182802 \r\nL 116.586515 218.710936 \r\nL 117.11739 220.040377 \r\nL 117.648264 222.104426 \r\nL 118.356097 226.074326 \r\nL 119.063931 231.374947 \r\nL 120.12568 241.249422 \r\nL 122.426138 263.623239 \r\nL 123.310929 269.90383 \r\nL 124.018762 273.503651 \r\nL 124.726595 275.932658 \r\nL 125.25747 277.124523 \r\nL 125.788345 277.907243 \r\nL 126.496178 278.507576 \r\nL 127.204011 278.79717 \r\nL 127.734885 278.901788 \r\nL 127.734885 278.901788 \r\n\" style=\"fill:none;stroke:#ff7f0e;stroke-linecap:square;stroke-width:1.5;\"/>\r\n   </g>\r\n   <g id=\"line2d_18\">\r\n    <path clip-path=\"url(#p3bea0becf3)\" d=\"M 89.497657 278.927593 \r\nL 90.896094 278.728315 \r\nL 91.944922 278.34089 \r\nL 92.644141 277.867394 \r\nL 93.34336 277.128186 \r\nL 94.042579 276.023281 \r\nL 94.741797 274.442225 \r\nL 95.441016 272.276733 \r\nL 96.140235 269.438619 \r\nL 97.189063 263.833522 \r\nL 98.237891 256.737036 \r\nL 102.083594 228.600011 \r\nL 102.782812 225.163842 \r\nL 103.482031 222.559208 \r\nL 104.18125 220.7402 \r\nL 104.880468 219.604026 \r\nL 105.579687 219.024142 \r\nL 106.278906 218.88152 \r\nL 106.978124 219.085575 \r\nL 107.677343 219.580498 \r\nL 108.376562 220.338081 \r\nL 109.42539 221.931895 \r\nL 110.474218 224.002788 \r\nL 112.222265 228.101024 \r\nL 115.019139 234.714533 \r\nL 117.116796 239.082949 \r\nL 122.011326 248.731932 \r\nL 124.108983 253.748031 \r\nL 126.556248 259.491062 \r\nL 127.954685 262.22847 \r\nL 129.702732 265.097156 \r\nL 134.597263 272.423259 \r\nL 135.9957 274.13393 \r\nL 137.394138 275.433538 \r\nL 138.792575 276.341013 \r\nL 140.191013 276.936768 \r\nL 141.939059 277.37377 \r\nL 144.036715 277.634007 \r\nL 151.728121 278.331943 \r\nL 155.224215 278.840136 \r\nL 158.021089 278.976562 \r\nL 159.069917 278.990501 \r\nL 159.069917 278.990501 \r\n\" style=\"fill:none;stroke:#2ca02c;stroke-linecap:square;stroke-width:1.5;\"/>\r\n   </g>\r\n   <g id=\"line2d_19\">\r\n    <path clip-path=\"url(#p3bea0becf3)\" d=\"M 97.601477 278.958434 \r\nL 98.079746 278.780008 \r\nL 98.398592 278.446509 \r\nL 98.717438 277.792666 \r\nL 99.115996 276.332054 \r\nL 99.514553 273.992223 \r\nL 99.913111 270.479494 \r\nL 100.311669 264.893299 \r\nL 100.710226 255.597782 \r\nL 101.188496 237.528047 \r\nL 101.746476 206.868291 \r\nL 102.46388 154.158596 \r\nL 104.058111 23.863625 \r\nL 104.297245 20.142405 \r\nL 104.376957 20.446371 \r\nL 104.53638 23.197952 \r\nL 104.855226 35.626576 \r\nL 106.60888 121.354627 \r\nL 107.485707 150.287138 \r\nL 111.869841 272.050042 \r\nL 112.268399 276.163142 \r\nL 112.666957 278.045655 \r\nL 112.985803 278.655246 \r\nL 113.38436 278.920293 \r\nL 113.464072 278.942074 \r\nL 113.464072 278.942074 \r\n\" style=\"fill:none;stroke:#d62728;stroke-linecap:square;stroke-width:1.5;\"/>\r\n   </g>\r\n   <g id=\"patch_3\">\r\n    <path d=\"M 50.14375 279 \r\nL 50.14375 7.2 \r\n\" style=\"fill:none;stroke:#000000;stroke-linecap:square;stroke-linejoin:miter;stroke-width:0.8;\"/>\r\n   </g>\r\n   <g id=\"patch_4\">\r\n    <path d=\"M 278.416477 279 \r\nL 278.416477 7.2 \r\n\" style=\"fill:none;stroke:#000000;stroke-linecap:square;stroke-linejoin:miter;stroke-width:0.8;\"/>\r\n   </g>\r\n   <g id=\"patch_5\">\r\n    <path d=\"M 50.14375 279 \r\nL 278.416477 279 \r\n\" style=\"fill:none;stroke:#000000;stroke-linecap:square;stroke-linejoin:miter;stroke-width:0.8;\"/>\r\n   </g>\r\n   <g id=\"patch_6\">\r\n    <path d=\"M 50.14375 7.2 \r\nL 278.416477 7.2 \r\n\" style=\"fill:none;stroke:#000000;stroke-linecap:square;stroke-linejoin:miter;stroke-width:0.8;\"/>\r\n   </g>\r\n  </g>\r\n  <g id=\"axes_2\">\r\n   <g id=\"patch_7\">\r\n    <path d=\"M 324.071023 279 \r\nL 552.34375 279 \r\nL 552.34375 7.2 \r\nL 324.071023 7.2 \r\nz\r\n\" style=\"fill:#ffffff;\"/>\r\n   </g>\r\n   <g id=\"matplotlib.axis_3\">\r\n    <g id=\"xtick_7\">\r\n     <g id=\"line2d_20\">\r\n      <g>\r\n       <use style=\"stroke:#000000;stroke-width:0.8;\" x=\"348.049286\" xlink:href=\"#ma94015a583\" y=\"279\"/>\r\n      </g>\r\n     </g>\r\n     <g id=\"text_18\">\r\n      <!-- −2 -->\r\n      <g transform=\"translate(340.678192 293.598437)scale(0.1 -0.1)\">\r\n       <use xlink:href=\"#DejaVuSans-8722\"/>\r\n       <use x=\"83.789062\" xlink:href=\"#DejaVuSans-50\"/>\r\n      </g>\r\n     </g>\r\n    </g>\r\n    <g id=\"xtick_8\">\r\n     <g id=\"line2d_21\">\r\n      <g>\r\n       <use style=\"stroke:#000000;stroke-width:0.8;\" x=\"383.775309\" xlink:href=\"#ma94015a583\" y=\"279\"/>\r\n      </g>\r\n     </g>\r\n     <g id=\"text_19\">\r\n      <!-- −1 -->\r\n      <g transform=\"translate(376.404215 293.598437)scale(0.1 -0.1)\">\r\n       <use xlink:href=\"#DejaVuSans-8722\"/>\r\n       <use x=\"83.789062\" xlink:href=\"#DejaVuSans-49\"/>\r\n      </g>\r\n     </g>\r\n    </g>\r\n    <g id=\"xtick_9\">\r\n     <g id=\"line2d_22\">\r\n      <g>\r\n       <use style=\"stroke:#000000;stroke-width:0.8;\" x=\"419.501332\" xlink:href=\"#ma94015a583\" y=\"279\"/>\r\n      </g>\r\n     </g>\r\n     <g id=\"text_20\">\r\n      <!-- 0 -->\r\n      <g transform=\"translate(416.320082 293.598437)scale(0.1 -0.1)\">\r\n       <use xlink:href=\"#DejaVuSans-48\"/>\r\n      </g>\r\n     </g>\r\n    </g>\r\n    <g id=\"xtick_10\">\r\n     <g id=\"line2d_23\">\r\n      <g>\r\n       <use style=\"stroke:#000000;stroke-width:0.8;\" x=\"455.227354\" xlink:href=\"#ma94015a583\" y=\"279\"/>\r\n      </g>\r\n     </g>\r\n     <g id=\"text_21\">\r\n      <!-- 1 -->\r\n      <g transform=\"translate(452.046104 293.598437)scale(0.1 -0.1)\">\r\n       <use xlink:href=\"#DejaVuSans-49\"/>\r\n      </g>\r\n     </g>\r\n    </g>\r\n    <g id=\"xtick_11\">\r\n     <g id=\"line2d_24\">\r\n      <g>\r\n       <use style=\"stroke:#000000;stroke-width:0.8;\" x=\"490.953377\" xlink:href=\"#ma94015a583\" y=\"279\"/>\r\n      </g>\r\n     </g>\r\n     <g id=\"text_22\">\r\n      <!-- 2 -->\r\n      <g transform=\"translate(487.772127 293.598437)scale(0.1 -0.1)\">\r\n       <use xlink:href=\"#DejaVuSans-50\"/>\r\n      </g>\r\n     </g>\r\n    </g>\r\n    <g id=\"xtick_12\">\r\n     <g id=\"line2d_25\">\r\n      <g>\r\n       <use style=\"stroke:#000000;stroke-width:0.8;\" x=\"526.6794\" xlink:href=\"#ma94015a583\" y=\"279\"/>\r\n      </g>\r\n     </g>\r\n     <g id=\"text_23\">\r\n      <!-- 3 -->\r\n      <g transform=\"translate(523.49815 293.598437)scale(0.1 -0.1)\">\r\n       <use xlink:href=\"#DejaVuSans-51\"/>\r\n      </g>\r\n     </g>\r\n    </g>\r\n    <g id=\"text_24\">\r\n     <!-- TV -->\r\n     <g transform=\"translate(431.733168 307.276562)scale(0.1 -0.1)\">\r\n      <use xlink:href=\"#DejaVuSans-84\"/>\r\n      <use x=\"61.083984\" xlink:href=\"#DejaVuSans-86\"/>\r\n     </g>\r\n    </g>\r\n   </g>\r\n   <g id=\"matplotlib.axis_4\">\r\n    <g id=\"ytick_10\">\r\n     <g id=\"line2d_26\">\r\n      <g>\r\n       <use style=\"stroke:#000000;stroke-width:0.8;\" x=\"324.071023\" xlink:href=\"#m960f504c11\" y=\"279\"/>\r\n      </g>\r\n     </g>\r\n     <g id=\"text_25\">\r\n      <!-- 0.0 -->\r\n      <g transform=\"translate(301.167898 282.799219)scale(0.1 -0.1)\">\r\n       <use xlink:href=\"#DejaVuSans-48\"/>\r\n       <use x=\"63.623047\" xlink:href=\"#DejaVuSans-46\"/>\r\n       <use x=\"95.410156\" xlink:href=\"#DejaVuSans-48\"/>\r\n      </g>\r\n     </g>\r\n    </g>\r\n    <g id=\"ytick_11\">\r\n     <g id=\"line2d_27\">\r\n      <g>\r\n       <use style=\"stroke:#000000;stroke-width:0.8;\" x=\"324.071023\" xlink:href=\"#m960f504c11\" y=\"235.984788\"/>\r\n      </g>\r\n     </g>\r\n     <g id=\"text_26\">\r\n      <!-- 0.1 -->\r\n      <g transform=\"translate(301.167898 239.784007)scale(0.1 -0.1)\">\r\n       <use xlink:href=\"#DejaVuSans-48\"/>\r\n       <use x=\"63.623047\" xlink:href=\"#DejaVuSans-46\"/>\r\n       <use x=\"95.410156\" xlink:href=\"#DejaVuSans-49\"/>\r\n      </g>\r\n     </g>\r\n    </g>\r\n    <g id=\"ytick_12\">\r\n     <g id=\"line2d_28\">\r\n      <g>\r\n       <use style=\"stroke:#000000;stroke-width:0.8;\" x=\"324.071023\" xlink:href=\"#m960f504c11\" y=\"192.969577\"/>\r\n      </g>\r\n     </g>\r\n     <g id=\"text_27\">\r\n      <!-- 0.2 -->\r\n      <g transform=\"translate(301.167898 196.768796)scale(0.1 -0.1)\">\r\n       <use xlink:href=\"#DejaVuSans-48\"/>\r\n       <use x=\"63.623047\" xlink:href=\"#DejaVuSans-46\"/>\r\n       <use x=\"95.410156\" xlink:href=\"#DejaVuSans-50\"/>\r\n      </g>\r\n     </g>\r\n    </g>\r\n    <g id=\"ytick_13\">\r\n     <g id=\"line2d_29\">\r\n      <g>\r\n       <use style=\"stroke:#000000;stroke-width:0.8;\" x=\"324.071023\" xlink:href=\"#m960f504c11\" y=\"149.954365\"/>\r\n      </g>\r\n     </g>\r\n     <g id=\"text_28\">\r\n      <!-- 0.3 -->\r\n      <g transform=\"translate(301.167898 153.753584)scale(0.1 -0.1)\">\r\n       <use xlink:href=\"#DejaVuSans-48\"/>\r\n       <use x=\"63.623047\" xlink:href=\"#DejaVuSans-46\"/>\r\n       <use x=\"95.410156\" xlink:href=\"#DejaVuSans-51\"/>\r\n      </g>\r\n     </g>\r\n    </g>\r\n    <g id=\"ytick_14\">\r\n     <g id=\"line2d_30\">\r\n      <g>\r\n       <use style=\"stroke:#000000;stroke-width:0.8;\" x=\"324.071023\" xlink:href=\"#m960f504c11\" y=\"106.939154\"/>\r\n      </g>\r\n     </g>\r\n     <g id=\"text_29\">\r\n      <!-- 0.4 -->\r\n      <g transform=\"translate(301.167898 110.738372)scale(0.1 -0.1)\">\r\n       <use xlink:href=\"#DejaVuSans-48\"/>\r\n       <use x=\"63.623047\" xlink:href=\"#DejaVuSans-46\"/>\r\n       <use x=\"95.410156\" xlink:href=\"#DejaVuSans-52\"/>\r\n      </g>\r\n     </g>\r\n    </g>\r\n    <g id=\"ytick_15\">\r\n     <g id=\"line2d_31\">\r\n      <g>\r\n       <use style=\"stroke:#000000;stroke-width:0.8;\" x=\"324.071023\" xlink:href=\"#m960f504c11\" y=\"63.923942\"/>\r\n      </g>\r\n     </g>\r\n     <g id=\"text_30\">\r\n      <!-- 0.5 -->\r\n      <g transform=\"translate(301.167898 67.723161)scale(0.1 -0.1)\">\r\n       <use xlink:href=\"#DejaVuSans-48\"/>\r\n       <use x=\"63.623047\" xlink:href=\"#DejaVuSans-46\"/>\r\n       <use x=\"95.410156\" xlink:href=\"#DejaVuSans-53\"/>\r\n      </g>\r\n     </g>\r\n    </g>\r\n    <g id=\"ytick_16\">\r\n     <g id=\"line2d_32\">\r\n      <g>\r\n       <use style=\"stroke:#000000;stroke-width:0.8;\" x=\"324.071023\" xlink:href=\"#m960f504c11\" y=\"20.90873\"/>\r\n      </g>\r\n     </g>\r\n     <g id=\"text_31\">\r\n      <!-- 0.6 -->\r\n      <g transform=\"translate(301.167898 24.707949)scale(0.1 -0.1)\">\r\n       <use xlink:href=\"#DejaVuSans-48\"/>\r\n       <use x=\"63.623047\" xlink:href=\"#DejaVuSans-46\"/>\r\n       <use x=\"95.410156\" xlink:href=\"#DejaVuSans-54\"/>\r\n      </g>\r\n     </g>\r\n    </g>\r\n    <g id=\"text_32\">\r\n     <!-- Density -->\r\n     <g transform=\"translate(295.08821 162.108594)rotate(-90)scale(0.1 -0.1)\">\r\n      <use xlink:href=\"#DejaVuSans-68\"/>\r\n      <use x=\"77.001953\" xlink:href=\"#DejaVuSans-101\"/>\r\n      <use x=\"138.525391\" xlink:href=\"#DejaVuSans-110\"/>\r\n      <use x=\"201.904297\" xlink:href=\"#DejaVuSans-115\"/>\r\n      <use x=\"254.003906\" xlink:href=\"#DejaVuSans-105\"/>\r\n      <use x=\"281.787109\" xlink:href=\"#DejaVuSans-116\"/>\r\n      <use x=\"320.996094\" xlink:href=\"#DejaVuSans-121\"/>\r\n     </g>\r\n    </g>\r\n   </g>\r\n   <g id=\"line2d_33\">\r\n    <path clip-path=\"url(#p0101ccc8cf)\" d=\"M 360.56041 278.67263 \r\nL 362.328575 278.293951 \r\nL 363.507351 277.85613 \r\nL 364.686128 277.190419 \r\nL 365.864904 276.204315 \r\nL 367.043681 274.781465 \r\nL 368.222457 272.78188 \r\nL 369.401234 270.045335 \r\nL 370.580011 266.398858 \r\nL 371.758787 261.668771 \r\nL 372.937564 255.697144 \r\nL 374.11634 248.361587 \r\nL 375.295117 239.596367 \r\nL 376.473893 229.411953 \r\nL 378.242058 211.722404 \r\nL 380.599611 184.912754 \r\nL 384.135941 143.861186 \r\nL 385.904105 125.893477 \r\nL 387.082882 115.561822 \r\nL 388.261658 106.71602 \r\nL 389.440435 99.373735 \r\nL 390.619211 93.452945 \r\nL 391.797988 88.796922 \r\nL 392.976764 85.206399 \r\nL 394.155541 82.473003 \r\nL 395.334318 80.408281 \r\nL 396.513094 78.863924 \r\nL 397.691871 77.740871 \r\nL 398.870647 76.987405 \r\nL 400.049424 76.588411 \r\nL 401.2282 76.549434 \r\nL 402.406977 76.879655 \r\nL 403.585753 77.577414 \r\nL 404.76453 78.62078 \r\nL 405.943306 79.964051 \r\nL 407.711471 82.388623 \r\nL 411.837189 88.370341 \r\nL 413.015965 89.728688 \r\nL 414.194742 90.756399 \r\nL 415.373518 91.358478 \r\nL 415.962907 91.469967 \r\nL 416.552295 91.439122 \r\nL 417.141683 91.25415 \r\nL 417.731071 90.903619 \r\nL 418.32046 90.376692 \r\nL 418.909848 89.663417 \r\nL 420.088625 87.644408 \r\nL 421.267401 84.797639 \r\nL 422.446178 81.111015 \r\nL 423.624954 76.620197 \r\nL 425.393119 68.593151 \r\nL 428.34006 53.339009 \r\nL 430.108225 44.544849 \r\nL 431.287001 39.494817 \r\nL 432.465778 35.467125 \r\nL 433.055166 33.927121 \r\nL 433.644555 32.745001 \r\nL 434.233943 31.947214 \r\nL 434.823331 31.555522 \r\nL 435.412719 31.586566 \r\nL 436.002108 32.051551 \r\nL 436.591496 32.956063 \r\nL 437.180884 34.300025 \r\nL 437.770272 36.077804 \r\nL 438.949049 40.886143 \r\nL 440.127825 47.237917 \r\nL 441.306602 54.930878 \r\nL 443.074767 68.463683 \r\nL 445.43232 88.991356 \r\nL 448.968649 122.33863 \r\nL 454.862532 180.509882 \r\nL 457.809473 208.859679 \r\nL 459.577638 224.403985 \r\nL 461.345803 238.168088 \r\nL 463.113968 249.751675 \r\nL 464.292744 256.168744 \r\nL 465.471521 261.547591 \r\nL 466.650297 265.94299 \r\nL 467.829074 269.443581 \r\nL 469.00785 272.160267 \r\nL 470.186627 274.214471 \r\nL 471.365403 275.727778 \r\nL 472.54418 276.813898 \r\nL 473.722956 277.57334 \r\nL 474.901733 278.090689 \r\nL 476.669898 278.557495 \r\nL 477.848674 278.734307 \r\nL 477.848674 278.734307 \r\n\" style=\"fill:none;stroke:#1f77b4;stroke-linecap:square;stroke-width:1.5;\"/>\r\n   </g>\r\n   <g id=\"line2d_34\">\r\n    <path clip-path=\"url(#p0101ccc8cf)\" d=\"M 367.915264 278.57589 \r\nL 369.547708 278.098337 \r\nL 370.636004 277.551339 \r\nL 371.7243 276.725043 \r\nL 372.812596 275.507713 \r\nL 373.900893 273.758838 \r\nL 374.989189 271.309 \r\nL 376.077485 267.963315 \r\nL 377.165781 263.509486 \r\nL 378.254077 257.731135 \r\nL 379.342373 250.426422 \r\nL 380.430669 241.430987 \r\nL 381.518965 230.643209 \r\nL 382.607262 218.04876 \r\nL 384.239706 196.005734 \r\nL 386.416298 162.158717 \r\nL 390.225334 101.068841 \r\nL 391.857779 78.824717 \r\nL 392.946075 66.397567 \r\nL 394.034371 56.166344 \r\nL 395.122667 48.205027 \r\nL 396.210963 42.450781 \r\nL 396.755111 40.349223 \r\nL 397.299259 38.725027 \r\nL 397.843407 37.542894 \r\nL 398.387555 36.76448 \r\nL 398.931703 36.349541 \r\nL 399.475851 36.257033 \r\nL 400.02 36.446137 \r\nL 400.564148 36.877157 \r\nL 401.652444 38.316323 \r\nL 402.74074 40.305314 \r\nL 404.373184 43.859939 \r\nL 409.814665 56.28317 \r\nL 411.991257 60.607769 \r\nL 413.623701 63.344076 \r\nL 414.711997 64.83547 \r\nL 415.800293 66.007892 \r\nL 416.888589 66.832067 \r\nL 417.976886 67.302114 \r\nL 419.065182 67.440809 \r\nL 420.153478 67.300228 \r\nL 421.785922 66.737821 \r\nL 424.506662 65.620659 \r\nL 426.139106 65.233508 \r\nL 427.771551 65.141035 \r\nL 431.580587 65.172794 \r\nL 432.668883 64.957669 \r\nL 434.301327 64.340635 \r\nL 437.566216 62.817903 \r\nL 438.654512 62.696448 \r\nL 439.19866 62.804559 \r\nL 439.742808 63.056326 \r\nL 440.286956 63.474824 \r\nL 440.831104 64.082434 \r\nL 441.375252 64.900454 \r\nL 441.9194 65.948766 \r\nL 443.007696 68.806876 \r\nL 444.095993 72.776815 \r\nL 445.184289 77.94078 \r\nL 446.272585 84.339319 \r\nL 447.360881 91.969729 \r\nL 448.993325 105.613419 \r\nL 450.625769 121.588072 \r\nL 452.802362 145.595917 \r\nL 458.78799 213.971381 \r\nL 460.420434 229.641597 \r\nL 462.052879 242.972684 \r\nL 463.141175 250.454242 \r\nL 464.229471 256.808804 \r\nL 465.317767 262.083942 \r\nL 466.406063 266.362274 \r\nL 467.494359 269.751239 \r\nL 468.582655 272.372386 \r\nL 469.670951 274.351386 \r\nL 470.759248 275.809683 \r\nL 471.847544 276.858313 \r\nL 472.93584 277.59404 \r\nL 474.024136 278.097638 \r\nL 475.65658 278.555469 \r\nL 476.200728 278.652934 \r\nL 476.200728 278.652934 \r\n\" style=\"fill:none;stroke:#ff7f0e;stroke-linecap:square;stroke-width:1.5;\"/>\r\n   </g>\r\n   <g id=\"line2d_35\">\r\n    <path clip-path=\"url(#p0101ccc8cf)\" d=\"M 366.388709 278.68823 \r\nL 368.153322 278.383721 \r\nL 369.917935 277.830175 \r\nL 370.800242 277.412384 \r\nL 371.682548 276.866783 \r\nL 372.564855 276.161996 \r\nL 373.447162 275.261442 \r\nL 374.329468 274.123211 \r\nL 375.211775 272.700163 \r\nL 376.094081 270.940317 \r\nL 376.976388 268.787571 \r\nL 377.858694 266.182803 \r\nL 378.741001 263.065382 \r\nL 379.623308 259.375069 \r\nL 380.505614 255.054314 \r\nL 381.387921 250.050861 \r\nL 382.270227 244.320593 \r\nL 384.03484 230.561444 \r\nL 385.799454 213.695967 \r\nL 387.564067 193.94107 \r\nL 390.210986 160.189353 \r\nL 394.622519 101.30333 \r\nL 396.387132 80.20728 \r\nL 398.151746 61.987019 \r\nL 399.916359 47.191517 \r\nL 400.798665 41.141502 \r\nL 401.680972 35.976443 \r\nL 402.563278 31.660973 \r\nL 403.445585 28.144136 \r\nL 404.327892 25.363916 \r\nL 405.210198 23.25198 \r\nL 406.092505 21.738267 \r\nL 406.974811 20.755109 \r\nL 407.857118 20.240599 \r\nL 408.739424 20.141006 \r\nL 409.621731 20.412135 \r\nL 410.504038 21.019629 \r\nL 411.386344 21.938302 \r\nL 412.268651 23.150675 \r\nL 413.150957 24.644949 \r\nL 414.033264 26.412687 \r\nL 415.797877 30.737785 \r\nL 417.56249 36.044002 \r\nL 419.327103 42.192234 \r\nL 421.974023 52.539663 \r\nL 429.914782 84.947989 \r\nL 433.444009 98.009522 \r\nL 436.973235 110.051189 \r\nL 446.678607 142.079935 \r\nL 449.325527 152.105574 \r\nL 452.854753 166.558246 \r\nL 458.148593 188.355864 \r\nL 460.795512 198.136454 \r\nL 463.442432 206.784913 \r\nL 466.089352 214.423088 \r\nL 469.618578 223.705031 \r\nL 480.206257 250.681776 \r\nL 481.97087 254.571754 \r\nL 483.735483 258.047606 \r\nL 485.500096 261.071834 \r\nL 487.264709 263.643477 \r\nL 489.029323 265.789049 \r\nL 490.793936 267.550897 \r\nL 492.558549 268.977237 \r\nL 494.323162 270.116107 \r\nL 496.087775 271.013071 \r\nL 497.852388 271.710921 \r\nL 500.499308 272.470321 \r\nL 503.146228 272.9854 \r\nL 506.675454 273.433708 \r\nL 517.263133 274.54159 \r\nL 519.910053 275.125133 \r\nL 524.321585 276.389795 \r\nL 528.733118 277.617406 \r\nL 531.380038 278.167173 \r\nL 534.909264 278.63602 \r\nL 538.438491 278.866638 \r\nL 541.967717 278.959097 \r\nL 541.967717 278.959097 \r\n\" style=\"fill:none;stroke:#2ca02c;stroke-linecap:square;stroke-width:1.5;\"/>\r\n   </g>\r\n   <g id=\"line2d_36\">\r\n    <path clip-path=\"url(#p0101ccc8cf)\" d=\"M 334.447056 278.961134 \r\nL 340.00529 278.7943 \r\nL 343.71078 278.482467 \r\nL 346.489897 278.059082 \r\nL 349.269014 277.414157 \r\nL 352.048131 276.505381 \r\nL 354.827248 275.301674 \r\nL 357.606365 273.764117 \r\nL 359.45911 272.514375 \r\nL 361.311855 271.033039 \r\nL 363.1646 269.250946 \r\nL 365.017345 267.076933 \r\nL 366.870089 264.403602 \r\nL 368.722834 261.11838 \r\nL 370.575579 257.118135 \r\nL 372.428324 252.324108 \r\nL 374.281068 246.693242 \r\nL 376.133813 240.222322 \r\nL 377.986558 232.942973 \r\nL 379.839303 224.907996 \r\nL 382.61842 211.554414 \r\nL 385.397537 196.717948 \r\nL 388.176654 180.340555 \r\nL 390.955771 162.269067 \r\nL 393.734889 142.453458 \r\nL 397.440378 113.932581 \r\nL 401.145868 85.20106 \r\nL 402.998612 71.930166 \r\nL 404.851357 60.134059 \r\nL 406.704102 50.356152 \r\nL 407.630474 46.37227 \r\nL 408.556847 43.054982 \r\nL 409.483219 40.438864 \r\nL 410.409592 38.546596 \r\nL 411.335964 37.387986 \r\nL 412.262336 36.959397 \r\nL 413.188709 37.243615 \r\nL 414.115081 38.210219 \r\nL 415.041453 39.816437 \r\nL 415.967826 42.008508 \r\nL 416.894198 44.723472 \r\nL 418.746943 51.43762 \r\nL 420.599688 59.360069 \r\nL 428.010667 92.911695 \r\nL 430.789784 103.840731 \r\nL 433.568901 113.748433 \r\nL 437.274391 125.878114 \r\nL 440.97988 137.087901 \r\nL 443.758997 144.854459 \r\nL 446.538115 152.020784 \r\nL 449.317232 158.649122 \r\nL 453.949094 168.992374 \r\nL 460.4337 183.457133 \r\nL 479.887521 228.325188 \r\nL 483.59301 237.402004 \r\nL 491.003989 255.980034 \r\nL 493.783106 262.132746 \r\nL 495.635851 265.714451 \r\nL 497.488596 268.809597 \r\nL 499.341341 271.396398 \r\nL 501.194085 273.486179 \r\nL 503.04683 275.117451 \r\nL 504.899575 276.347442 \r\nL 506.75232 277.243014 \r\nL 508.605065 277.872507 \r\nL 510.457809 278.299513 \r\nL 513.236926 278.677643 \r\nL 516.942416 278.898351 \r\nL 518.795161 278.945837 \r\nL 518.795161 278.945837 \r\n\" style=\"fill:none;stroke:#d62728;stroke-linecap:square;stroke-width:1.5;\"/>\r\n   </g>\r\n   <g id=\"patch_8\">\r\n    <path d=\"M 324.071023 279 \r\nL 324.071023 7.2 \r\n\" style=\"fill:none;stroke:#000000;stroke-linecap:square;stroke-linejoin:miter;stroke-width:0.8;\"/>\r\n   </g>\r\n   <g id=\"patch_9\">\r\n    <path d=\"M 552.34375 279 \r\nL 552.34375 7.2 \r\n\" style=\"fill:none;stroke:#000000;stroke-linecap:square;stroke-linejoin:miter;stroke-width:0.8;\"/>\r\n   </g>\r\n   <g id=\"patch_10\">\r\n    <path d=\"M 324.071023 279 \r\nL 552.34375 279 \r\n\" style=\"fill:none;stroke:#000000;stroke-linecap:square;stroke-linejoin:miter;stroke-width:0.8;\"/>\r\n   </g>\r\n   <g id=\"patch_11\">\r\n    <path d=\"M 324.071023 7.2 \r\nL 552.34375 7.2 \r\n\" style=\"fill:none;stroke:#000000;stroke-linecap:square;stroke-linejoin:miter;stroke-width:0.8;\"/>\r\n   </g>\r\n  </g>\r\n </g>\r\n <defs>\r\n  <clipPath id=\"p3bea0becf3\">\r\n   <rect height=\"271.8\" width=\"228.272727\" x=\"50.14375\" y=\"7.2\"/>\r\n  </clipPath>\r\n  <clipPath id=\"p0101ccc8cf\">\r\n   <rect height=\"271.8\" width=\"228.272727\" x=\"324.071023\" y=\"7.2\"/>\r\n  </clipPath>\r\n </defs>\r\n</svg>\r\n",
      "image/png": "[encoded data removed]"
     },
     "metadata": {
      "needs_background": "light"
     }
    }
   ],
   "source": [
    "fig, (ax1,ax2) = plt.subplots(ncols = 2, figsize = (9,5))\n",
    "\n",
    "sns.kdeplot(df['TV'], ax = ax1)\n",
    "sns.kdeplot(df['radio'], ax = ax1)\n",
    "sns.kdeplot(df['newspaper'], ax = ax1)\n",
    "sns.kdeplot(df['sales'], ax = ax1)\n",
    "\n",
    "sns.kdeplot(rs2['TV'], ax = ax2)\n",
    "sns.kdeplot(rs2['radio'], ax = ax2)\n",
    "sns.kdeplot(rs2['newspaper'], ax = ax2)\n",
    "sns.kdeplot(rs2['sales'], ax = ax2)"
   ]
  }
 ]
}