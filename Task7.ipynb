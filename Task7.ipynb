{
 "metadata": {
  "language_info": {
   "codemirror_mode": {
    "name": "ipython",
    "version": 3
   },
   "file_extension": ".py",
   "mimetype": "text/x-python",
   "name": "python",
   "nbconvert_exporter": "python",
   "pygments_lexer": "ipython3",
   "version": "3.8.5"
  },
  "orig_nbformat": 4,
  "kernelspec": {
   "name": "python3",
   "display_name": "Python 3.8.5 64-bit ('base': conda)"
  },
  "interpreter": {
   "hash": "8d8e941dd9e9252dac184cf5490b23fd17a43efd88a760f18b4762e38cf72dd3"
  }
 },
 "nbformat": 4,
 "nbformat_minor": 2,
 "cells": [
  {
   "source": [
    "## Task 7\n",
    "- Create a function for finding the leap years in the given range\n"
   ],
   "cell_type": "markdown",
   "metadata": {}
  },
  {
   "cell_type": "code",
   "execution_count": 8,
   "metadata": {},
   "outputs": [
    {
     "output_type": "stream",
     "name": "stdout",
     "text": [
      "Between the range 2000 and 2025\n2000 is a leap year\n2004 is a leap year\n2008 is a leap year\n2012 is a leap year\n2016 is a leap year\n2020 is a leap year\n2024 is a leap year\n"
     ]
    }
   ],
   "source": [
    "def leap_year(year):\n",
    "    if (year%4 == 0 and year%100 != 0 or year%400 == 0):\n",
    "        return True\n",
    "    else:\n",
    "        return False\n",
    "start = int(input(\"Enter the start range: \"))\n",
    "end = int(input(\"Enter the end range: \"))\n",
    "print(\"Between the range\", start, \"and\", end)\n",
    "for i in range(start, end):\n",
    "    if leap_year(i) == True:\n",
    "        print(i,\"is a leap year\")"
   ]
  },
  {
   "source": [
    "- Create a function for getting armstrong numbers within the given range"
   ],
   "cell_type": "markdown",
   "metadata": {}
  },
  {
   "cell_type": "code",
   "execution_count": 20,
   "metadata": {},
   "outputs": [
    {
     "output_type": "stream",
     "name": "stdout",
     "text": [
      "The armstrong numbers from 1 to 5000\n1\n2\n3\n4\n5\n6\n7\n8\n9\n153\n370\n371\n407\n1634\n"
     ]
    }
   ],
   "source": [
    "def armstrong(a, b):\n",
    "    for i in range(a, b+1):\n",
    "        num = i\n",
    "        result = 0\n",
    "        n = len(str(i))\n",
    "        while(i != 0):\n",
    "            digit = i % 10\n",
    "            result = result + digit ** n\n",
    "            i = i//10\n",
    "        if num == result:\n",
    "            print(num)\n",
    "initial = int(input(\"Enter the start number \"))\n",
    "final = int(input(\"Enter the final number \"))\n",
    "print(\"The armstrong numbers from\", initial, \"to\", final)\n",
    "armstrong(initial, final)\n"
   ]
  },
  {
   "source": [
    "- Create a function for getting the prime numbers within the range\n"
   ],
   "cell_type": "markdown",
   "metadata": {}
  },
  {
   "cell_type": "code",
   "execution_count": 28,
   "metadata": {},
   "outputs": [
    {
     "output_type": "stream",
     "name": "stdout",
     "text": [
      "Prime numbers between 1 and 100\n1 is a prime number\n2 is a prime number\n3 is a prime number\n5 is a prime number\n7 is a prime number\n11 is a prime number\n13 is a prime number\n17 is a prime number\n19 is a prime number\n23 is a prime number\n29 is a prime number\n31 is a prime number\n37 is a prime number\n41 is a prime number\n43 is a prime number\n47 is a prime number\n53 is a prime number\n59 is a prime number\n61 is a prime number\n67 is a prime number\n71 is a prime number\n73 is a prime number\n79 is a prime number\n83 is a prime number\n89 is a prime number\n97 is a prime number\n"
     ]
    }
   ],
   "source": [
    "def prime(r1, r2):\n",
    "    for num in range(r1, r2+1):\n",
    "        for i in range(2, num):\n",
    "            if num%i == 0:\n",
    "                break\n",
    "        else:\n",
    "            print(num,\"is a prime number\")\n",
    "prime_start = int(input(\"Enter the start number \"))\n",
    "prime_end = int(input(\"Enter the end number \"))\n",
    "print(\"Prime numbers between\", prime_start, \"and\", prime_end)\n",
    "prime(prime_start,prime_end)\n"
   ]
  },
  {
   "source": [
    "- Create a function for finding the count of elements in a string"
   ],
   "cell_type": "markdown",
   "metadata": {}
  },
  {
   "cell_type": "code",
   "execution_count": 41,
   "metadata": {},
   "outputs": [
    {
     "output_type": "stream",
     "name": "stdout",
     "text": [
      "The string is Hello\nCount of elements in string is 5\n"
     ]
    }
   ],
   "source": [
    "def count(string):\n",
    "    count_str = 0\n",
    "    for i in string:\n",
    "        count_str = count_str + 1\n",
    "    return count_str \n",
    "inp = input(\"Enter the string \")\n",
    "print(\"The string is\", inp)\n",
    "print(\"Count of elements in string is\",count(inp))"
   ]
  }
 ]
}