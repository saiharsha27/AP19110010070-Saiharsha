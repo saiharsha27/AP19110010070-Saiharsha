{
 "metadata": {
  "language_info": {
   "codemirror_mode": {
    "name": "ipython",
    "version": 3
   },
   "file_extension": ".py",
   "mimetype": "text/x-python",
   "name": "python",
   "nbconvert_exporter": "python",
   "pygments_lexer": "ipython3",
   "version": "3.8.5"
  },
  "orig_nbformat": 4,
  "kernelspec": {
   "name": "python3",
   "display_name": "Python 3.8.5 64-bit ('base': conda)"
  },
  "interpreter": {
   "hash": "8d8e941dd9e9252dac184cf5490b23fd17a43efd88a760f18b4762e38cf72dd3"
  }
 },
 "nbformat": 4,
 "nbformat_minor": 2,
 "cells": [
  {
   "source": [
    "## Task 7\n",
    "- Create a function for finding the leap years in the given range\n"
   ],
   "cell_type": "markdown",
   "metadata": {}
  },
  {
   "cell_type": "code",
   "execution_count": 8,
   "metadata": {},
   "outputs": [
    {
     "output_type": "stream",
     "name": "stdout",
     "text": [
      "Between the range 2000 and 2025\n2000 is a leap year\n2004 is a leap year\n2008 is a leap year\n2012 is a leap year\n2016 is a leap year\n2020 is a leap year\n2024 is a leap year\n"
     ]
    }
   ],
   "source": [
    "def leap_year(year):\n",
    "    if (year%4 == 0 and year%100 != 0 or year%400 == 0):\n",
    "        return True\n",
    "    else:\n",
    "        return False\n",
    "start = int(input(\"Enter the start range: \"))\n",
    "end = int(input(\"Enter the end range: \"))\n",
    "print(\"Between the range\", start, \"and\", end)\n",
    "for i in range(start, end):\n",
    "    if leap_year(i) == True:\n",
    "        print(i,\"is a leap year\")"
   ]
  },
  {
   "source": [
    "- Create a function for getting armstrong numbers within the given range\n",
    "- Create a function for getting the prime numbers within the range\n",
    "- Create a function for finding the count of elements in a string"
   ],
   "cell_type": "markdown",
   "metadata": {}
  },
  {
   "cell_type": "code",
   "execution_count": null,
   "metadata": {},
   "outputs": [],
   "source": []
  }
 ]
}