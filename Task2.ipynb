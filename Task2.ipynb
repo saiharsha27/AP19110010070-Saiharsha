{
 "cells": [
  {
   "cell_type": "markdown",
   "metadata": {},
   "source": [
    "## Task - Day 3\n",
    "- Take last 3 values of roll number\n",
    "    - If value startswith \"01\" --> 'CSE Dept'\n",
    "    - elif value startswith \"11\" --> 'IT Dept'\n",
    "    - elif value startswith \"21\" --> \"ECE Dept\"\n",
    "    - else not an SRM student"
   ]
  },
  {
   "cell_type": "code",
   "execution_count": null,
   "metadata": {},
   "outputs": [],
   "source": [
    "roll_num = input(\"Enter your roll number \")\n",
    "if roll_num[-3:].startswith(\"01\"):\n",
    "    print(\"CSE Department\")\n",
    "elif roll_num[-3:].startswith(\"11\"):\n",
    "    print(\"IT Department\")\n",
    "elif roll_num[-3:].startswith(\"21\"):\n",
    "    print(\"ECE Department\")\n",
    "else:\n",
    "    print(\"Not a SRM student\")"
   ]
  },
  {
   "cell_type": "markdown",
   "metadata": {},
   "source": [
    "### Testcases"
   ]
  },
  {
   "cell_type": "markdown",
   "metadata": {},
   "source": [
    "#### CSE Department"
   ]
  },
  {
   "cell_type": "code",
   "execution_count": 5,
   "metadata": {},
   "outputs": [
    {
     "name": "stdout",
     "output_type": "stream",
     "text": [
      "Enter your roll number AP20110010017\n",
      "CSE Department\n"
     ]
    }
   ],
   "source": [
    "roll_num = input(\"Enter your roll number \")\n",
    "if roll_num[-3:].startswith(\"01\"):\n",
    "    print(\"CSE Department\")\n",
    "elif roll_num[-3:].startswith(\"11\"):\n",
    "    print(\"IT Department\")\n",
    "elif roll_num[-3:].startswith(\"21\"):\n",
    "    print(\"ECE Department\")\n",
    "else:\n",
    "    print(\"Not a SRM student\")"
   ]
  },
  {
   "cell_type": "markdown",
   "metadata": {},
   "source": [
    "#### IT Department"
   ]
  },
  {
   "cell_type": "code",
   "execution_count": 6,
   "metadata": {},
   "outputs": [
    {
     "name": "stdout",
     "output_type": "stream",
     "text": [
      "Enter your roll number AP20110010117\n",
      "IT Department\n"
     ]
    }
   ],
   "source": [
    "roll_num = input(\"Enter your roll number \")\n",
    "if roll_num[-3:].startswith(\"01\"):\n",
    "    print(\"CSE Department\")\n",
    "elif roll_num[-3:].startswith(\"11\"):\n",
    "    print(\"IT Department\")\n",
    "elif roll_num[-3:].startswith(\"21\"):\n",
    "    print(\"ECE Department\")\n",
    "else:\n",
    "    print(\"Not a SRM student\")"
   ]
  },
  {
   "cell_type": "markdown",
   "metadata": {},
   "source": [
    "#### ECE Department"
   ]
  },
  {
   "cell_type": "code",
   "execution_count": 7,
   "metadata": {},
   "outputs": [
    {
     "name": "stdout",
     "output_type": "stream",
     "text": [
      "Enter your roll number AP20110010217\n",
      "ECE Department\n"
     ]
    }
   ],
   "source": [
    "roll_num = input(\"Enter your roll number \")\n",
    "if roll_num[-3:].startswith(\"01\"):\n",
    "    print(\"CSE Department\")\n",
    "elif roll_num[-3:].startswith(\"11\"):\n",
    "    print(\"IT Department\")\n",
    "elif roll_num[-3:].startswith(\"21\"):\n",
    "    print(\"ECE Department\")\n",
    "else:\n",
    "    print(\"Not a SRM student\")"
   ]
  },
  {
   "cell_type": "markdown",
   "metadata": {},
   "source": [
    "#### Not SRM Student"
   ]
  },
  {
   "cell_type": "code",
   "execution_count": 8,
   "metadata": {},
   "outputs": [
    {
     "name": "stdout",
     "output_type": "stream",
     "text": [
      "Enter your roll number AP20110010070\n",
      "Not a SRM student\n"
     ]
    }
   ],
   "source": [
    "roll_num = input(\"Enter your roll number \")\n",
    "if roll_num[-3:].startswith(\"01\"):\n",
    "    print(\"CSE Department\")\n",
    "elif roll_num[-3:].startswith(\"11\"):\n",
    "    print(\"IT Department\")\n",
    "elif roll_num[-3:].startswith(\"21\"):\n",
    "    print(\"ECE Department\")\n",
    "else:\n",
    "    print(\"Not a SRM student\")"
   ]
  },
  {
   "cell_type": "code",
   "execution_count": null,
   "metadata": {},
   "outputs": [],
   "source": []
  }
 ],
 "metadata": {
  "kernelspec": {
   "display_name": "Python 3",
   "language": "python",
   "name": "python3"
  },
  "language_info": {
   "codemirror_mode": {
    "name": "ipython",
    "version": 3
   },
   "file_extension": ".py",
   "mimetype": "text/x-python",
   "name": "python",
   "nbconvert_exporter": "python",
   "pygments_lexer": "ipython3",
   "version": "3.8.5"
  }
 },
 "nbformat": 4,
 "nbformat_minor": 4
}
